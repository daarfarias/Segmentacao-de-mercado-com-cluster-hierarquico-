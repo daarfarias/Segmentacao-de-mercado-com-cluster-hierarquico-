{
 "cells": [
  {
   "cell_type": "markdown",
   "id": "polar-consistency",
   "metadata": {},
   "source": [
    "# SEGMENTAÇÃO DE CLIENTES DE DISTRIBUIDOR ATACADISTA (HIERARCHICAL CLUSTERING)"
   ]
  },
  {
   "cell_type": "markdown",
   "id": "charged-healing",
   "metadata": {},
   "source": [
    "*O conjunto de dados contém gastos de clientes de um distribuidor atacadista, dividido por categorias de produtos. Ele contém 440 observações e 8 variáveis. Adicionamos uma coluna de data, com valores aleatórios. Dessa, criamos colunas com ano e dias decorridos desde a última compra.*\n",
    "\n",
    "**Problema de negócio:**\n",
    "\n",
    "1. Qual o total de gastos dos clientes por tipo de produto?\n",
    "2. Qual a média de gastos dos clientes por tipo de produto?\n",
    "3. Qual foi o total de gastos dos clientes nos últimos 30, 60 e 90 dias?\n",
    "4. Qual foi o total de gastos por categoria de produtos nos últimos 30, 60 e 90 dias?\n",
    "5. Qual o total de gastos dos clientes por ano?\n",
    "6. Agrupar clientes(segmentação de mercado).\n",
    "\n",
    "\n",
    "**Dataset:** https://archive.ics.uci.edu/ml/datasets/wholesale+customers\n"
   ]
  },
  {
   "cell_type": "markdown",
   "id": "complex-antigua",
   "metadata": {},
   "source": [
    "## 1. CARREGAR PACOTES E IMPORTAR DADOS"
   ]
  },
  {
   "cell_type": "code",
   "execution_count": 1,
   "id": "piano-jason",
   "metadata": {},
   "outputs": [
    {
     "name": "stderr",
     "output_type": "stream",
     "text": [
      "Warning message:\n",
      "\"package 'tidyverse' was built under R version 3.6.3\"-- Attaching packages --------------------------------------- tidyverse 1.3.0 --\n",
      "v ggplot2 3.3.3     v purrr   0.3.4\n",
      "v tibble  3.0.6     v dplyr   1.0.4\n",
      "v tidyr   1.1.2     v stringr 1.4.0\n",
      "v readr   1.3.1     v forcats 0.4.0\n",
      "Warning message:\n",
      "\"package 'ggplot2' was built under R version 3.6.3\"Warning message:\n",
      "\"package 'tibble' was built under R version 3.6.3\"Warning message:\n",
      "\"package 'tidyr' was built under R version 3.6.3\"Warning message:\n",
      "\"package 'purrr' was built under R version 3.6.3\"Warning message:\n",
      "\"package 'dplyr' was built under R version 3.6.3\"-- Conflicts ------------------------------------------ tidyverse_conflicts() --\n",
      "x dplyr::filter() masks stats::filter()\n",
      "x dplyr::lag()    masks stats::lag()\n",
      "\n",
      "Attaching package: 'lubridate'\n",
      "\n",
      "The following object is masked from 'package:base':\n",
      "\n",
      "    date\n",
      "\n",
      "Warning message:\n",
      "\"package 'corrplot' was built under R version 3.6.3\"corrplot 0.84 loaded\n",
      "Warning message:\n",
      "\"package 'gridExtra' was built under R version 3.6.3\"\n",
      "Attaching package: 'gridExtra'\n",
      "\n",
      "The following object is masked from 'package:dplyr':\n",
      "\n",
      "    combine\n",
      "\n",
      "Warning message:\n",
      "\"package 'knitr' was built under R version 3.6.3\"Warning message:\n",
      "\"package 'factoextra' was built under R version 3.6.3\"Welcome! Want to learn more? See two factoextra-related books at https://goo.gl/ve3WBa\n"
     ]
    }
   ],
   "source": [
    "# Carregando pacotes\n",
    "library(tidyverse)\n",
    "library(lubridate)\n",
    "library(corrplot)\n",
    "library(gridExtra)\n",
    "library(knitr)\n",
    "library(factoextra)"
   ]
  },
  {
   "cell_type": "code",
   "execution_count": 2,
   "id": "average-military",
   "metadata": {},
   "outputs": [],
   "source": [
    "# Importando os dados\n",
    "df<- read.csv(\"Wholesale customers data.csv\")"
   ]
  },
  {
   "cell_type": "code",
   "execution_count": 3,
   "id": "funky-surfing",
   "metadata": {},
   "outputs": [
    {
     "data": {
      "text/plain": [
       "    Channel          Region          Fresh             Milk      \n",
       " Min.   :1.000   Min.   :1.000   Min.   :     3   Min.   :   55  \n",
       " 1st Qu.:1.000   1st Qu.:2.000   1st Qu.:  3128   1st Qu.: 1533  \n",
       " Median :1.000   Median :3.000   Median :  8504   Median : 3627  \n",
       " Mean   :1.323   Mean   :2.543   Mean   : 12000   Mean   : 5796  \n",
       " 3rd Qu.:2.000   3rd Qu.:3.000   3rd Qu.: 16934   3rd Qu.: 7190  \n",
       " Max.   :2.000   Max.   :3.000   Max.   :112151   Max.   :73498  \n",
       "    Grocery          Frozen        Detergents_Paper    Delicassen     \n",
       " Min.   :    3   Min.   :   25.0   Min.   :    3.0   Min.   :    3.0  \n",
       " 1st Qu.: 2153   1st Qu.:  742.2   1st Qu.:  256.8   1st Qu.:  408.2  \n",
       " Median : 4756   Median : 1526.0   Median :  816.5   Median :  965.5  \n",
       " Mean   : 7951   Mean   : 3071.9   Mean   : 2881.5   Mean   : 1524.9  \n",
       " 3rd Qu.:10656   3rd Qu.: 3554.2   3rd Qu.: 3922.0   3rd Qu.: 1820.2  \n",
       " Max.   :92780   Max.   :60869.0   Max.   :40827.0   Max.   :47943.0  "
      ]
     },
     "metadata": {},
     "output_type": "display_data"
    }
   ],
   "source": [
    "# Sumário dos dados\n",
    "summary(df)"
   ]
  },
  {
   "cell_type": "code",
   "execution_count": 4,
   "id": "played-magazine",
   "metadata": {},
   "outputs": [
    {
     "data": {
      "text/html": [
       "<table>\n",
       "<thead><tr><th scope=col>Channel</th><th scope=col>Region</th><th scope=col>Fresh</th><th scope=col>Milk</th><th scope=col>Grocery</th><th scope=col>Frozen</th><th scope=col>Detergents_Paper</th><th scope=col>Delicassen</th></tr></thead>\n",
       "<tbody>\n",
       "\t<tr><td>2    </td><td>3    </td><td>12669</td><td>9656 </td><td>7561 </td><td> 214 </td><td>2674 </td><td>1338 </td></tr>\n",
       "\t<tr><td>2    </td><td>3    </td><td> 7057</td><td>9810 </td><td>9568 </td><td>1762 </td><td>3293 </td><td>1776 </td></tr>\n",
       "\t<tr><td>2    </td><td>3    </td><td> 6353</td><td>8808 </td><td>7684 </td><td>2405 </td><td>3516 </td><td>7844 </td></tr>\n",
       "\t<tr><td>1    </td><td>3    </td><td>13265</td><td>1196 </td><td>4221 </td><td>6404 </td><td> 507 </td><td>1788 </td></tr>\n",
       "\t<tr><td>2    </td><td>3    </td><td>22615</td><td>5410 </td><td>7198 </td><td>3915 </td><td>1777 </td><td>5185 </td></tr>\n",
       "\t<tr><td>2    </td><td>3    </td><td> 9413</td><td>8259 </td><td>5126 </td><td> 666 </td><td>1795 </td><td>1451 </td></tr>\n",
       "</tbody>\n",
       "</table>\n"
      ],
      "text/latex": [
       "\\begin{tabular}{r|llllllll}\n",
       " Channel & Region & Fresh & Milk & Grocery & Frozen & Detergents\\_Paper & Delicassen\\\\\n",
       "\\hline\n",
       "\t 2     & 3     & 12669 & 9656  & 7561  &  214  & 2674  & 1338 \\\\\n",
       "\t 2     & 3     &  7057 & 9810  & 9568  & 1762  & 3293  & 1776 \\\\\n",
       "\t 2     & 3     &  6353 & 8808  & 7684  & 2405  & 3516  & 7844 \\\\\n",
       "\t 1     & 3     & 13265 & 1196  & 4221  & 6404  &  507  & 1788 \\\\\n",
       "\t 2     & 3     & 22615 & 5410  & 7198  & 3915  & 1777  & 5185 \\\\\n",
       "\t 2     & 3     &  9413 & 8259  & 5126  &  666  & 1795  & 1451 \\\\\n",
       "\\end{tabular}\n"
      ],
      "text/markdown": [
       "\n",
       "| Channel | Region | Fresh | Milk | Grocery | Frozen | Detergents_Paper | Delicassen |\n",
       "|---|---|---|---|---|---|---|---|\n",
       "| 2     | 3     | 12669 | 9656  | 7561  |  214  | 2674  | 1338  |\n",
       "| 2     | 3     |  7057 | 9810  | 9568  | 1762  | 3293  | 1776  |\n",
       "| 2     | 3     |  6353 | 8808  | 7684  | 2405  | 3516  | 7844  |\n",
       "| 1     | 3     | 13265 | 1196  | 4221  | 6404  |  507  | 1788  |\n",
       "| 2     | 3     | 22615 | 5410  | 7198  | 3915  | 1777  | 5185  |\n",
       "| 2     | 3     |  9413 | 8259  | 5126  |  666  | 1795  | 1451  |\n",
       "\n"
      ],
      "text/plain": [
       "  Channel Region Fresh Milk Grocery Frozen Detergents_Paper Delicassen\n",
       "1 2       3      12669 9656 7561     214   2674             1338      \n",
       "2 2       3       7057 9810 9568    1762   3293             1776      \n",
       "3 2       3       6353 8808 7684    2405   3516             7844      \n",
       "4 1       3      13265 1196 4221    6404    507             1788      \n",
       "5 2       3      22615 5410 7198    3915   1777             5185      \n",
       "6 2       3       9413 8259 5126     666   1795             1451      "
      ]
     },
     "metadata": {},
     "output_type": "display_data"
    }
   ],
   "source": [
    "# Visualizar as seis primeiras linhas do dataset\n",
    "head(df)"
   ]
  },
  {
   "cell_type": "code",
   "execution_count": 5,
   "id": "developing-compensation",
   "metadata": {},
   "outputs": [
    {
     "data": {
      "text/html": [
       "<table>\n",
       "<thead><tr><th></th><th scope=col>Channel</th><th scope=col>Region</th><th scope=col>Fresh</th><th scope=col>Milk</th><th scope=col>Grocery</th><th scope=col>Frozen</th><th scope=col>Detergents_Paper</th><th scope=col>Delicassen</th></tr></thead>\n",
       "<tbody>\n",
       "\t<tr><th scope=row>435</th><td>1    </td><td>3    </td><td>16731</td><td> 3922</td><td> 7994</td><td>  688</td><td> 2371</td><td> 838 </td></tr>\n",
       "\t<tr><th scope=row>436</th><td>1    </td><td>3    </td><td>29703</td><td>12051</td><td>16027</td><td>13135</td><td>  182</td><td>2204 </td></tr>\n",
       "\t<tr><th scope=row>437</th><td>1    </td><td>3    </td><td>39228</td><td> 1431</td><td>  764</td><td> 4510</td><td>   93</td><td>2346 </td></tr>\n",
       "\t<tr><th scope=row>438</th><td>2    </td><td>3    </td><td>14531</td><td>15488</td><td>30243</td><td>  437</td><td>14841</td><td>1867 </td></tr>\n",
       "\t<tr><th scope=row>439</th><td>1    </td><td>3    </td><td>10290</td><td> 1981</td><td> 2232</td><td> 1038</td><td>  168</td><td>2125 </td></tr>\n",
       "\t<tr><th scope=row>440</th><td>1    </td><td>3    </td><td> 2787</td><td> 1698</td><td> 2510</td><td>   65</td><td>  477</td><td>  52 </td></tr>\n",
       "</tbody>\n",
       "</table>\n"
      ],
      "text/latex": [
       "\\begin{tabular}{r|llllllll}\n",
       "  & Channel & Region & Fresh & Milk & Grocery & Frozen & Detergents\\_Paper & Delicassen\\\\\n",
       "\\hline\n",
       "\t435 & 1     & 3     & 16731 &  3922 &  7994 &   688 &  2371 &  838 \\\\\n",
       "\t436 & 1     & 3     & 29703 & 12051 & 16027 & 13135 &   182 & 2204 \\\\\n",
       "\t437 & 1     & 3     & 39228 &  1431 &   764 &  4510 &    93 & 2346 \\\\\n",
       "\t438 & 2     & 3     & 14531 & 15488 & 30243 &   437 & 14841 & 1867 \\\\\n",
       "\t439 & 1     & 3     & 10290 &  1981 &  2232 &  1038 &   168 & 2125 \\\\\n",
       "\t440 & 1     & 3     &  2787 &  1698 &  2510 &    65 &   477 &   52 \\\\\n",
       "\\end{tabular}\n"
      ],
      "text/markdown": [
       "\n",
       "| <!--/--> | Channel | Region | Fresh | Milk | Grocery | Frozen | Detergents_Paper | Delicassen |\n",
       "|---|---|---|---|---|---|---|---|---|\n",
       "| 435 | 1     | 3     | 16731 |  3922 |  7994 |   688 |  2371 |  838  |\n",
       "| 436 | 1     | 3     | 29703 | 12051 | 16027 | 13135 |   182 | 2204  |\n",
       "| 437 | 1     | 3     | 39228 |  1431 |   764 |  4510 |    93 | 2346  |\n",
       "| 438 | 2     | 3     | 14531 | 15488 | 30243 |   437 | 14841 | 1867  |\n",
       "| 439 | 1     | 3     | 10290 |  1981 |  2232 |  1038 |   168 | 2125  |\n",
       "| 440 | 1     | 3     |  2787 |  1698 |  2510 |    65 |   477 |   52  |\n",
       "\n"
      ],
      "text/plain": [
       "    Channel Region Fresh Milk  Grocery Frozen Detergents_Paper Delicassen\n",
       "435 1       3      16731  3922  7994     688   2371             838      \n",
       "436 1       3      29703 12051 16027   13135    182            2204      \n",
       "437 1       3      39228  1431   764    4510     93            2346      \n",
       "438 2       3      14531 15488 30243     437  14841            1867      \n",
       "439 1       3      10290  1981  2232    1038    168            2125      \n",
       "440 1       3       2787  1698  2510      65    477              52      "
      ]
     },
     "metadata": {},
     "output_type": "display_data"
    }
   ],
   "source": [
    "# Visualizar as seis últimas linhas do dataset\n",
    "tail(df)"
   ]
  },
  {
   "cell_type": "code",
   "execution_count": 6,
   "id": "sunset-essex",
   "metadata": {},
   "outputs": [
    {
     "name": "stdout",
     "output_type": "stream",
     "text": [
      "Rows: 440\n",
      "Columns: 8\n",
      "$ Channel          <int> 2, 2, 2, 1, 2, 2, 2, 2, 1, 2, 2, 2, 2, 2, 2, 1, 2, 1,~\n",
      "$ Region           <int> 3, 3, 3, 3, 3, 3, 3, 3, 3, 3, 3, 3, 3, 3, 3, 3, 3, 3,~\n",
      "$ Fresh            <int> 12669, 7057, 6353, 13265, 22615, 9413, 12126, 7579, 5~\n",
      "$ Milk             <int> 9656, 9810, 8808, 1196, 5410, 8259, 3199, 4956, 3648,~\n",
      "$ Grocery          <int> 7561, 9568, 7684, 4221, 7198, 5126, 6975, 9426, 6192,~\n",
      "$ Frozen           <int> 214, 1762, 2405, 6404, 3915, 666, 480, 1669, 425, 115~\n",
      "$ Detergents_Paper <int> 2674, 3293, 3516, 507, 1777, 1795, 3140, 3321, 1716, ~\n",
      "$ Delicassen       <int> 1338, 1776, 7844, 1788, 5185, 1451, 545, 2566, 750, 2~\n"
     ]
    }
   ],
   "source": [
    "# Informações gerais dos dados\n",
    "glimpse(df)"
   ]
  },
  {
   "cell_type": "code",
   "execution_count": 7,
   "id": "cellular-korean",
   "metadata": {},
   "outputs": [
    {
     "data": {
      "text/html": [
       "<dl class=dl-horizontal>\n",
       "\t<dt>Channel</dt>\n",
       "\t\t<dd>0</dd>\n",
       "\t<dt>Region</dt>\n",
       "\t\t<dd>0</dd>\n",
       "\t<dt>Fresh</dt>\n",
       "\t\t<dd>0</dd>\n",
       "\t<dt>Milk</dt>\n",
       "\t\t<dd>0</dd>\n",
       "\t<dt>Grocery</dt>\n",
       "\t\t<dd>0</dd>\n",
       "\t<dt>Frozen</dt>\n",
       "\t\t<dd>0</dd>\n",
       "\t<dt>Detergents_Paper</dt>\n",
       "\t\t<dd>0</dd>\n",
       "\t<dt>Delicassen</dt>\n",
       "\t\t<dd>0</dd>\n",
       "</dl>\n"
      ],
      "text/latex": [
       "\\begin{description*}\n",
       "\\item[Channel] 0\n",
       "\\item[Region] 0\n",
       "\\item[Fresh] 0\n",
       "\\item[Milk] 0\n",
       "\\item[Grocery] 0\n",
       "\\item[Frozen] 0\n",
       "\\item[Detergents\\textbackslash{}\\_Paper] 0\n",
       "\\item[Delicassen] 0\n",
       "\\end{description*}\n"
      ],
      "text/markdown": [
       "Channel\n",
       ":   0Region\n",
       ":   0Fresh\n",
       ":   0Milk\n",
       ":   0Grocery\n",
       ":   0Frozen\n",
       ":   0Detergents_Paper\n",
       ":   0Delicassen\n",
       ":   0\n",
       "\n"
      ],
      "text/plain": [
       "         Channel           Region            Fresh             Milk \n",
       "               0                0                0                0 \n",
       "         Grocery           Frozen Detergents_Paper       Delicassen \n",
       "               0                0                0                0 "
      ]
     },
     "metadata": {},
     "output_type": "display_data"
    }
   ],
   "source": [
    "# Checando NAs\n",
    "sapply(df,function(x) sum(is.na(x)))"
   ]
  },
  {
   "cell_type": "markdown",
   "id": "funky-track",
   "metadata": {},
   "source": [
    "## 2. TRANSFORMAÇÃO E ANÁLISE EXPLORATÓRIA DOS DADOS"
   ]
  },
  {
   "cell_type": "code",
   "execution_count": 8,
   "id": "veterinary-fever",
   "metadata": {},
   "outputs": [],
   "source": [
    "# Gerando Datas aleatórias\n",
    "df$Date<-as.Date(x = rdunif(n = 440,\n",
    "                                 a = as.integer(as.Date(\"2015-01-01\")),\n",
    "                                 b = as.integer(as.Date(\"2020-01-01\"))),\n",
    "                origin=\"1970-01-01\")"
   ]
  },
  {
   "cell_type": "code",
   "execution_count": 9,
   "id": "limiting-eclipse",
   "metadata": {},
   "outputs": [],
   "source": [
    "# Gerando coluna Ano\n",
    "df$Year<-format(as.Date(df$Date),\"%Y\")"
   ]
  },
  {
   "cell_type": "code",
   "execution_count": 10,
   "id": "cognitive-washer",
   "metadata": {},
   "outputs": [],
   "source": [
    "# Criando coluna dias desde última compra\n",
    "df$Days_since  = as.numeric(difftime(time1 = \"2020-01-01\", time2 = df$Date, units = \"days\"))"
   ]
  },
  {
   "cell_type": "code",
   "execution_count": 11,
   "id": "technological-imperial",
   "metadata": {},
   "outputs": [],
   "source": [
    "# Renomeando variáveis\n",
    "df<-df %>%\n",
    "rename(Canal=Channel,Regiao=Region,Frescos=Fresh,Lacteos=Milk,\n",
    "      Mercearia=Grocery,Congelados=Frozen,Limpeza=Detergents_Paper,\n",
    "      Delicatessen=Delicassen,Data=Date,Ano=Year,Dias_decorridos=Days_since)"
   ]
  },
  {
   "cell_type": "code",
   "execution_count": 12,
   "id": "governmental-transition",
   "metadata": {},
   "outputs": [
    {
     "name": "stdout",
     "output_type": "stream",
     "text": [
      "Rows: 440\n",
      "Columns: 11\n",
      "$ Canal           <int> 2, 2, 2, 1, 2, 2, 2, 2, 1, 2, 2, 2, 2, 2, 2, 1, 2, 1, ~\n",
      "$ Regiao          <int> 3, 3, 3, 3, 3, 3, 3, 3, 3, 3, 3, 3, 3, 3, 3, 3, 3, 3, ~\n",
      "$ Frescos         <int> 12669, 7057, 6353, 13265, 22615, 9413, 12126, 7579, 59~\n",
      "$ Lacteos         <int> 9656, 9810, 8808, 1196, 5410, 8259, 3199, 4956, 3648, ~\n",
      "$ Mercearia       <int> 7561, 9568, 7684, 4221, 7198, 5126, 6975, 9426, 6192, ~\n",
      "$ Congelados      <int> 214, 1762, 2405, 6404, 3915, 666, 480, 1669, 425, 1159~\n",
      "$ Limpeza         <int> 2674, 3293, 3516, 507, 1777, 1795, 3140, 3321, 1716, 7~\n",
      "$ Delicatessen    <int> 1338, 1776, 7844, 1788, 5185, 1451, 545, 2566, 750, 20~\n",
      "$ Data            <date> 2018-11-08, 2019-04-02, 2017-05-28, 2017-10-28, 2016-~\n",
      "$ Ano             <chr> \"2018\", \"2019\", \"2017\", \"2017\", \"2016\", \"2016\", \"2018\"~\n",
      "$ Dias_decorridos <dbl> 419.0833, 274.0833, 948.0833, 795.0833, 1282.0833, 120~\n"
     ]
    }
   ],
   "source": [
    "# Visão geral das variáveis\n",
    "glimpse(df)"
   ]
  },
  {
   "cell_type": "markdown",
   "id": "organizational-cincinnati",
   "metadata": {},
   "source": [
    "### 2.1 Plotando Variáveis"
   ]
  },
  {
   "cell_type": "code",
   "execution_count": 13,
   "id": "advisory-leave",
   "metadata": {},
   "outputs": [],
   "source": [
    "# Plotando a variável Frescos\n",
    "plot1<-df %>%\n",
    "ggplot(aes(Frescos)) +\n",
    "geom_histogram(aes(y = (..count..)/sum(..count..)),\n",
    "               fill = \"green\", color = \"red\", alpha = 0.5, bins = 40, boundary = 5) +\n",
    "labs(title = \"Produtos Frescos\", x=NULL, y=NULL) +\n",
    "scale_y_continuous(labels=scales::percent) +\n",
    "theme(axis.text.x = element_text(size = 10),\n",
    "     plot.title = element_text(hjust = 0.5))"
   ]
  },
  {
   "cell_type": "code",
   "execution_count": 14,
   "id": "applied-ecology",
   "metadata": {},
   "outputs": [],
   "source": [
    "# Plotando a variável Lacteos\n",
    "plot2<-df %>%\n",
    "ggplot(aes(Lacteos)) +\n",
    "geom_histogram(aes(y = (..count..)/sum(..count..)),\n",
    "               fill = \"green\", color = \"red\", alpha = 0.5, bins = 40, boundary = 5) +\n",
    "labs(title = \"Produtos Lácteos\", x=NULL, y=NULL) +\n",
    "scale_y_continuous(labels=scales::percent) +\n",
    "theme(axis.text.x = element_text(size = 10),\n",
    "      plot.title = element_text(hjust = 0.5))"
   ]
  },
  {
   "cell_type": "code",
   "execution_count": 15,
   "id": "dying-mileage",
   "metadata": {},
   "outputs": [],
   "source": [
    "# Plotando a variável Mercearia\n",
    "plot3<-df %>%\n",
    "ggplot(aes(Mercearia)) +\n",
    "geom_histogram(aes(y = (..count..)/sum(..count..)),\n",
    "               fill = \"green\", color = \"red\", alpha = 0.5, bins = 40, boundary = 5) +\n",
    "labs(title = \"Produtos de Mercearia\", x=NULL, y=NULL) +\n",
    "scale_y_continuous(labels=scales::percent) +\n",
    "theme(axis.text.x = element_text(size = 10),\n",
    "      plot.title = element_text(hjust = 0.5))"
   ]
  },
  {
   "cell_type": "code",
   "execution_count": 16,
   "id": "controlling-network",
   "metadata": {},
   "outputs": [
    {
     "data": {
      "image/png": "[encoded data removed]",
      "text/plain": [
       "plot without title"
      ]
     },
     "metadata": {},
     "output_type": "display_data"
    }
   ],
   "source": [
    "grid.arrange(plot1,plot2,plot3)"
   ]
  },
  {
   "cell_type": "code",
   "execution_count": 17,
   "id": "developed-banking",
   "metadata": {},
   "outputs": [],
   "source": [
    "# Plotando a variável Congelados\n",
    "plot4<-df %>%\n",
    "ggplot(aes(Congelados)) +\n",
    "geom_histogram(aes(y = (..count..)/sum(..count..)),\n",
    "               fill = \"green\", color = \"red\", alpha = 0.5, bins = 40, boundary = 5) +\n",
    "labs(title = \"Produtos Congelados\", x=NULL, y=NULL) +\n",
    "scale_y_continuous(labels=scales::percent) +\n",
    "theme(axis.text.x = element_text(size = 10),\n",
    "      plot.title = element_text(hjust = 0.5))"
   ]
  },
  {
   "cell_type": "code",
   "execution_count": 18,
   "id": "facial-citation",
   "metadata": {},
   "outputs": [],
   "source": [
    "# Plotando a variável Limpeza\n",
    "plot5<-df %>%\n",
    "ggplot(aes(Limpeza)) +\n",
    "geom_histogram(aes(y = (..count..)/sum(..count..)),\n",
    "               fill = \"green\", color = \"red\", alpha = 0.5, bins = 40, boundary = 5) +\n",
    "labs(title = \"Produtos de Limpeza\", x=NULL, y=NULL) +\n",
    "scale_y_continuous(labels=scales::percent) +\n",
    "theme(axis.text.x = element_text(size = 10),\n",
    "      plot.title = element_text(hjust = 0.5))"
   ]
  },
  {
   "cell_type": "code",
   "execution_count": 19,
   "id": "suitable-cylinder",
   "metadata": {},
   "outputs": [],
   "source": [
    "# Plotando a variável Delicatessen\n",
    "plot6<-df %>%\n",
    "ggplot(aes(Delicatessen)) +\n",
    "geom_histogram(aes(y = (..count..)/sum(..count..)),\n",
    "               fill = \"green\", color = \"red\", alpha = 0.5, bins = 40, boundary = 5) +\n",
    "labs(title = \"Produtos Delicatessen\", x=NULL, y=NULL) +\n",
    "scale_y_continuous(labels=scales::percent) +\n",
    "theme(axis.text.x = element_text(size = 10),\n",
    "      plot.title = element_text(hjust = 0.5))"
   ]
  },
  {
   "cell_type": "code",
   "execution_count": 20,
   "id": "intermediate-newcastle",
   "metadata": {},
   "outputs": [
    {
     "data": {
      "image/png": "[encoded data removed]",
      "text/plain": [
       "plot without title"
      ]
     },
     "metadata": {},
     "output_type": "display_data"
    }
   ],
   "source": [
    "grid.arrange(plot4,plot5,plot6)"
   ]
  },
  {
   "cell_type": "code",
   "execution_count": 21,
   "id": "sized-tobago",
   "metadata": {},
   "outputs": [],
   "source": [
    "# Plotando a variável Canal\n",
    "plot7<- df %>%\n",
    "mutate(Canal=factor(Canal,labels=c(\"Horeca\",\"Varejo\"))) %>%\n",
    "ggplot(aes(Canal,fill=Canal)) +\n",
    "geom_bar(alpha=.5,show.legend=F,aes(y = (..count..)/sum(..count..))) +\n",
    "scale_y_continuous(labels=scales::percent) +\n",
    "labs(x=NULL,y=NULL,title=\"Tipo de Cliente\") +\n",
    "theme(axis.text.x = element_text(size = 10),\n",
    "      plot.title = element_text(hjust = 0.5))"
   ]
  },
  {
   "cell_type": "code",
   "execution_count": 22,
   "id": "completed-concentration",
   "metadata": {},
   "outputs": [],
   "source": [
    "# Plotando a variável Regiao\n",
    "plot8<- df %>%\n",
    "mutate(Regiao=factor(Regiao,labels=c(\"Lisboa\",\"Porto\",\"Outra Região\"))) %>%\n",
    "ggplot(aes(Regiao,fill=Regiao)) +\n",
    "geom_bar(alpha=.5,show.legend=F,aes(y = (..count..)/sum(..count..))) +\n",
    "scale_y_continuous(labels=scales::percent) +\n",
    "labs(x=NULL,y=NULL,title=\"Região do Cliente\") +\n",
    "theme(axis.text.x = element_text(size = 10),\n",
    "      plot.title = element_text(hjust = 0.5))"
   ]
  },
  {
   "cell_type": "code",
   "execution_count": 23,
   "id": "deluxe-playing",
   "metadata": {},
   "outputs": [
    {
     "data": {
      "image/png": "[encoded data removed]",
      "text/plain": [
       "plot without title"
      ]
     },
     "metadata": {},
     "output_type": "display_data"
    }
   ],
   "source": [
    "grid.arrange(plot7,plot8)"
   ]
  },
  {
   "cell_type": "code",
   "execution_count": 24,
   "id": "false-thumbnail",
   "metadata": {
    "scrolled": false
   },
   "outputs": [
    {
     "data": {
      "image/png": "[encoded data removed]",
      "text/plain": [
       "plot without title"
      ]
     },
     "metadata": {},
     "output_type": "display_data"
    }
   ],
   "source": [
    "# Plotando gasto por tipo de produto\n",
    "df %>%\n",
    "gather(\"Produto\",\"Gasto\",3:8) %>%\n",
    "ggplot(aes(Produto,Gasto,fill=Produto)) +\n",
    "geom_boxplot(alpha=.5,show.legend=F,outlier.color=\"grey\") +\n",
    "labs(title=\"Gasto Por Tipo De Produto\",y=NULL,x=NULL) +\n",
    "theme(plot.title = element_text(hjust = 0.5,size=14),\n",
    "     axis.text.x = element_text(size=11))"
   ]
  },
  {
   "cell_type": "code",
   "execution_count": 25,
   "id": "dramatic-chemistry",
   "metadata": {},
   "outputs": [
    {
     "data": {
      "text/html": [
       "<table>\n",
       "<thead><tr><th scope=col>Canal</th><th scope=col>Regiao</th><th scope=col>Frescos</th><th scope=col>Lacteos</th><th scope=col>Mercearia</th><th scope=col>Congelados</th><th scope=col>Limpeza</th><th scope=col>Delicatessen</th><th scope=col>Data</th><th scope=col>Ano</th><th scope=col>Dias_decorridos</th></tr></thead>\n",
       "<tbody>\n",
       "\t<tr><td>2         </td><td>3         </td><td>16117     </td><td>46197     </td><td>92780     </td><td>1026      </td><td>40827     </td><td>2944      </td><td>2018-11-15</td><td>2018      </td><td> 412.0833 </td></tr>\n",
       "\t<tr><td>2         </td><td>2         </td><td> 8565     </td><td> 4980     </td><td>67298     </td><td> 131      </td><td>38102     </td><td>1215      </td><td>2017-10-01</td><td>2017      </td><td> 822.0833 </td></tr>\n",
       "\t<tr><td>2         </td><td>3         </td><td>35942     </td><td>38369     </td><td>59598     </td><td>3254      </td><td>26701     </td><td>2017      </td><td>2015-05-22</td><td>2015      </td><td>1685.0833 </td></tr>\n",
       "\t<tr><td>2         </td><td>3         </td><td>44466     </td><td>54259     </td><td>55571     </td><td>7782      </td><td>24171     </td><td>6465      </td><td>2019-08-05</td><td>2019      </td><td> 149.0833 </td></tr>\n",
       "\t<tr><td>2         </td><td>3         </td><td>   85     </td><td>20959     </td><td>45828     </td><td>  36      </td><td>24231     </td><td>1423      </td><td>2019-07-26</td><td>2019      </td><td> 159.0833 </td></tr>\n",
       "\t<tr><td>2         </td><td>1         </td><td>12119     </td><td>28326     </td><td>39694     </td><td>4736      </td><td>19410     </td><td>2870      </td><td>2018-08-17</td><td>2018      </td><td> 502.0833 </td></tr>\n",
       "\t<tr><td>2         </td><td>1         </td><td> 2532     </td><td>16599     </td><td>36486     </td><td> 179      </td><td>13308     </td><td> 674      </td><td>2015-06-06</td><td>2015      </td><td>1670.0833 </td></tr>\n",
       "\t<tr><td>2         </td><td>3         </td><td>22039     </td><td> 8384     </td><td>34792     </td><td>  42      </td><td>12591     </td><td>4430      </td><td>2018-12-28</td><td>2018      </td><td> 369.0833 </td></tr>\n",
       "\t<tr><td>2         </td><td>1         </td><td> 6134     </td><td>23133     </td><td>33586     </td><td>6746      </td><td>18594     </td><td>5121      </td><td>2016-06-20</td><td>2016      </td><td>1290.0833 </td></tr>\n",
       "\t<tr><td>2         </td><td>3         </td><td>22925     </td><td>73498     </td><td>32114     </td><td> 987      </td><td>20070     </td><td> 903      </td><td>2018-02-15</td><td>2018      </td><td> 685.0833 </td></tr>\n",
       "</tbody>\n",
       "</table>\n"
      ],
      "text/latex": [
       "\\begin{tabular}{r|lllllllllll}\n",
       " Canal & Regiao & Frescos & Lacteos & Mercearia & Congelados & Limpeza & Delicatessen & Data & Ano & Dias\\_decorridos\\\\\n",
       "\\hline\n",
       "\t 2          & 3          & 16117      & 46197      & 92780      & 1026       & 40827      & 2944       & 2018-11-15 & 2018       &  412.0833 \\\\\n",
       "\t 2          & 2          &  8565      &  4980      & 67298      &  131       & 38102      & 1215       & 2017-10-01 & 2017       &  822.0833 \\\\\n",
       "\t 2          & 3          & 35942      & 38369      & 59598      & 3254       & 26701      & 2017       & 2015-05-22 & 2015       & 1685.0833 \\\\\n",
       "\t 2          & 3          & 44466      & 54259      & 55571      & 7782       & 24171      & 6465       & 2019-08-05 & 2019       &  149.0833 \\\\\n",
       "\t 2          & 3          &    85      & 20959      & 45828      &   36       & 24231      & 1423       & 2019-07-26 & 2019       &  159.0833 \\\\\n",
       "\t 2          & 1          & 12119      & 28326      & 39694      & 4736       & 19410      & 2870       & 2018-08-17 & 2018       &  502.0833 \\\\\n",
       "\t 2          & 1          &  2532      & 16599      & 36486      &  179       & 13308      &  674       & 2015-06-06 & 2015       & 1670.0833 \\\\\n",
       "\t 2          & 3          & 22039      &  8384      & 34792      &   42       & 12591      & 4430       & 2018-12-28 & 2018       &  369.0833 \\\\\n",
       "\t 2          & 1          &  6134      & 23133      & 33586      & 6746       & 18594      & 5121       & 2016-06-20 & 2016       & 1290.0833 \\\\\n",
       "\t 2          & 3          & 22925      & 73498      & 32114      &  987       & 20070      &  903       & 2018-02-15 & 2018       &  685.0833 \\\\\n",
       "\\end{tabular}\n"
      ],
      "text/markdown": [
       "\n",
       "| Canal | Regiao | Frescos | Lacteos | Mercearia | Congelados | Limpeza | Delicatessen | Data | Ano | Dias_decorridos |\n",
       "|---|---|---|---|---|---|---|---|---|---|---|\n",
       "| 2          | 3          | 16117      | 46197      | 92780      | 1026       | 40827      | 2944       | 2018-11-15 | 2018       |  412.0833  |\n",
       "| 2          | 2          |  8565      |  4980      | 67298      |  131       | 38102      | 1215       | 2017-10-01 | 2017       |  822.0833  |\n",
       "| 2          | 3          | 35942      | 38369      | 59598      | 3254       | 26701      | 2017       | 2015-05-22 | 2015       | 1685.0833  |\n",
       "| 2          | 3          | 44466      | 54259      | 55571      | 7782       | 24171      | 6465       | 2019-08-05 | 2019       |  149.0833  |\n",
       "| 2          | 3          |    85      | 20959      | 45828      |   36       | 24231      | 1423       | 2019-07-26 | 2019       |  159.0833  |\n",
       "| 2          | 1          | 12119      | 28326      | 39694      | 4736       | 19410      | 2870       | 2018-08-17 | 2018       |  502.0833  |\n",
       "| 2          | 1          |  2532      | 16599      | 36486      |  179       | 13308      |  674       | 2015-06-06 | 2015       | 1670.0833  |\n",
       "| 2          | 3          | 22039      |  8384      | 34792      |   42       | 12591      | 4430       | 2018-12-28 | 2018       |  369.0833  |\n",
       "| 2          | 1          |  6134      | 23133      | 33586      | 6746       | 18594      | 5121       | 2016-06-20 | 2016       | 1290.0833  |\n",
       "| 2          | 3          | 22925      | 73498      | 32114      |  987       | 20070      |  903       | 2018-02-15 | 2018       |  685.0833  |\n",
       "\n"
      ],
      "text/plain": [
       "   Canal Regiao Frescos Lacteos Mercearia Congelados Limpeza Delicatessen\n",
       "1  2     3      16117   46197   92780     1026       40827   2944        \n",
       "2  2     2       8565    4980   67298      131       38102   1215        \n",
       "3  2     3      35942   38369   59598     3254       26701   2017        \n",
       "4  2     3      44466   54259   55571     7782       24171   6465        \n",
       "5  2     3         85   20959   45828       36       24231   1423        \n",
       "6  2     1      12119   28326   39694     4736       19410   2870        \n",
       "7  2     1       2532   16599   36486      179       13308    674        \n",
       "8  2     3      22039    8384   34792       42       12591   4430        \n",
       "9  2     1       6134   23133   33586     6746       18594   5121        \n",
       "10 2     3      22925   73498   32114      987       20070    903        \n",
       "   Data       Ano  Dias_decorridos\n",
       "1  2018-11-15 2018  412.0833      \n",
       "2  2017-10-01 2017  822.0833      \n",
       "3  2015-05-22 2015 1685.0833      \n",
       "4  2019-08-05 2019  149.0833      \n",
       "5  2019-07-26 2019  159.0833      \n",
       "6  2018-08-17 2018  502.0833      \n",
       "7  2015-06-06 2015 1670.0833      \n",
       "8  2018-12-28 2018  369.0833      \n",
       "9  2016-06-20 2016 1290.0833      \n",
       "10 2018-02-15 2018  685.0833      "
      ]
     },
     "metadata": {},
     "output_type": "display_data"
    }
   ],
   "source": [
    "# Observando outliers na varíavel Frescos\n",
    "df %>%\n",
    "arrange(desc(Mercearia)) %>%\n",
    "head(10)"
   ]
  },
  {
   "cell_type": "code",
   "execution_count": 26,
   "id": "transsexual-wheel",
   "metadata": {},
   "outputs": [],
   "source": [
    "# Selecionando variáveis numéricas\n",
    "df_num<- df %>%\n",
    "select(Frescos,Lacteos,Mercearia,Congelados,Limpeza,Delicatessen)\n"
   ]
  },
  {
   "cell_type": "code",
   "execution_count": 27,
   "id": "federal-particle",
   "metadata": {},
   "outputs": [
    {
     "data": {
      "image/png": "[encoded data removed]",
      "text/plain": [
       "Plot with title \"\""
      ]
     },
     "metadata": {},
     "output_type": "display_data"
    }
   ],
   "source": [
    "# Gerando Matrix de correlação\n",
    "corrmatrix <- cor(df_num)\n",
    "corrplot(corrmatrix, method = 'number')"
   ]
  },
  {
   "cell_type": "markdown",
   "id": "secure-skill",
   "metadata": {},
   "source": [
    "**Considerações**\n",
    "* Encontramos outliers em todas as variáveis de nosso conjunto de dados que representam  gastos dos clientes. Isso fica mais nítido quando as unimos em um boxplot. O maior valor pertence a variável gastos com produtos frescos, mas esse maior gasto está correlacionado com um maior gasto em outros tipos de produtos. O mesmo ocorre, quando observamos outros valores outliers. \n",
    "<br>\n",
    "* Há uma forte correlação positiva (0.92) entre o gasto com produtos de limpeza e o gasto com mercearia. Além disso, há uma moderada correlação entre gastos com produtos lácteos e mercearia, assim como entre produtos lácteos e produtos de limpeza, respectivamente 0.73 e 0.66.\n",
    "* Quase 20% dos clientes são de Lisboa, cerca de 10% são do Porto, porém a grande maioria dos clientes pertencem à outras regiões.\n",
    "* 2/3 dos clientes são do setor de hotéis, restaurantes e cafés. O restante pertencem ao varejo."
   ]
  },
  {
   "cell_type": "markdown",
   "id": "balanced-coaching",
   "metadata": {},
   "source": [
    "## 3. PROBLEMA DE NEGÓCIO"
   ]
  },
  {
   "cell_type": "markdown",
   "id": "choice-lemon",
   "metadata": {},
   "source": [
    "## 1. Qual o gasto total dos clientes por tipo de produto a cada ano?"
   ]
  },
  {
   "cell_type": "code",
   "execution_count": 28,
   "id": "oriented-layer",
   "metadata": {},
   "outputs": [
    {
     "data": {
      "text/plain": [
       "\n",
       "\n",
       "Table: Total de Gasto por Tipo de Produto ao Ano\n",
       "\n",
       "|Ano  | Frescos| Lacteos| Mercearia| Congelados| Limpeza| Delicatessen|\n",
       "|:----|-------:|-------:|---------:|----------:|-------:|------------:|\n",
       "|2015 |  998964|  512845|    661824|     244738|  230061|       143686|\n",
       "|2016 | 1019153|  543424|    695482|     292628|  259590|       159205|\n",
       "|2017 | 1380164|  367093|    567171|     263936|  212037|       126881|\n",
       "|2018 | 1137647|  715657|    980258|     321417|  367377|       151922|\n",
       "|2019 |  744203|  411338|    593827|     228931|  198792|        89249|"
      ]
     },
     "metadata": {},
     "output_type": "display_data"
    }
   ],
   "source": [
    "# Total de gasto por tipo de produto por ano\n",
    "tb1<-df %>%\n",
    "group_by(Ano) %>%\n",
    "summarize(Frescos=sum(Frescos),Lacteos=sum(Lacteos),Mercearia=sum(Mercearia),\n",
    "Congelados=sum(Congelados),Limpeza=sum(Limpeza),Delicatessen=sum(Delicatessen))\n",
    "kable(tb1,caption=\"Total de Gasto por Tipo de Produto ao Ano\")"
   ]
  },
  {
   "cell_type": "markdown",
   "id": "virgin-documentation",
   "metadata": {},
   "source": [
    "* Na tabela acima podemos observar o gasto total de cada categoria de produtos por ano de 2015 a 2019."
   ]
  },
  {
   "cell_type": "markdown",
   "id": "drawn-habitat",
   "metadata": {},
   "source": [
    "## 2. Qual a média de gastos dos clientes por tipo de produto a cada ano?"
   ]
  },
  {
   "cell_type": "markdown",
   "id": "liked-hazard",
   "metadata": {},
   "source": [
    "* Primeiro, é importante resaltar que os valores discrepantes impactam a média. \n",
    "* Uma estratégia para resolver esse problema seria filtrar os valores a fim de remover outliers. Assim, apresentaremos duas tabelas com a média de gasto por ano. A primeira sem nenhum filtro e a segunda apenas com gastos menores do que 30 mil."
   ]
  },
  {
   "cell_type": "markdown",
   "id": "joint-stockholm",
   "metadata": {},
   "source": [
    "### 2.1 Média de gastos por ano"
   ]
  },
  {
   "cell_type": "code",
   "execution_count": 29,
   "id": "accomplished-period",
   "metadata": {},
   "outputs": [
    {
     "data": {
      "text/plain": [
       "\n",
       "\n",
       "Table: Média de Gasto por Tipo de Produto ao Ano\n",
       "\n",
       "|Ano  |   Frescos|  Lacteos| Mercearia| Congelados|  Limpeza| Delicatessen|\n",
       "|:----|---------:|--------:|---------:|----------:|--------:|------------:|\n",
       "|2015 | 11615.860| 5963.314|  7695.628|   2845.791| 2675.128|     1670.767|\n",
       "|2016 | 12132.774| 6469.333|  8279.548|   3483.667| 3090.357|     1895.298|\n",
       "|2017 | 14376.708| 3823.885|  5908.031|   2749.333| 2208.719|     1321.677|\n",
       "|2018 | 11728.320| 7377.907| 10105.753|   3313.577| 3787.392|     1566.206|\n",
       "|2019 |  9664.974| 5342.052|  7712.039|   2973.130| 2581.714|     1159.078|"
      ]
     },
     "metadata": {},
     "output_type": "display_data"
    }
   ],
   "source": [
    "# Média de gasto por tipo de produto por ano\n",
    "tb2<-df %>%\n",
    "group_by(Ano) %>%\n",
    "summarize(Frescos=mean(Frescos),Lacteos=mean(Lacteos),Mercearia=mean(Mercearia),\n",
    "Congelados=mean(Congelados),Limpeza=mean(Limpeza),Delicatessen=mean(Delicatessen))\n",
    "kable(tb2,caption=\"Média de Gasto por Tipo de Produto ao Ano\")"
   ]
  },
  {
   "cell_type": "markdown",
   "id": "consolidated-cornell",
   "metadata": {},
   "source": [
    "### 2.2 Média de gastos por ano filtrado"
   ]
  },
  {
   "cell_type": "code",
   "execution_count": 30,
   "id": "stupid-victor",
   "metadata": {},
   "outputs": [
    {
     "data": {
      "text/plain": [
       "\n",
       "\n",
       "Table: Media de Gasto por Tipo de Produto ao Ano c/Filtro\n",
       "\n",
       "|Ano  |   Frescos|  Lacteos| Mercearia| Congelados|  Limpeza| Delicatessen|\n",
       "|:----|---------:|--------:|---------:|----------:|--------:|------------:|\n",
       "|2015 | 10290.812| 5067.413|  6579.925|   2873.463| 2252.838|     1488.713|\n",
       "|2016 |  9424.053| 5440.733|  7619.320|   2774.213| 2897.627|     1144.400|\n",
       "|2017 | 10519.855| 3950.554|  5419.217|   2661.145| 1969.253|     1151.566|\n",
       "|2018 |  8511.812| 5684.894|  8310.271|   2072.376| 2956.259|     1370.188|\n",
       "|2019 |  7007.437| 4356.366|  6596.380|   2400.437| 2078.831|     1063.944|"
      ]
     },
     "metadata": {},
     "output_type": "display_data"
    }
   ],
   "source": [
    "# Média de gasto por tipo de produto por ano\n",
    "tb3<-df %>%\n",
    "group_by(Ano) %>%\n",
    "filter(Frescos<30000 & Lacteos<30000 & Mercearia<30000\n",
    "       & Congelados<30000 & Limpeza <30000 & Delicatessen <30000) %>%\n",
    "summarize(Frescos=mean(Frescos),Lacteos=mean(Lacteos),Mercearia=mean(Mercearia),\n",
    "Congelados=mean(Congelados),Limpeza=mean(Limpeza),Delicatessen=mean(Delicatessen))\n",
    "kable(tb3,caption=\"Media de Gasto por Tipo de Produto ao Ano c/Filtro\")"
   ]
  },
  {
   "cell_type": "markdown",
   "id": "searching-trader",
   "metadata": {},
   "source": [
    "* Realizamos um filtro para obter valores menores do que 30.000. \n",
    "* Claramente observamos a diferença entre valores com e sem filtro. Por exemplo, a média de gastos com produtos frescos em 2015 foi de 11.616 dólares sem filtrar valores e 10.291 dólares utilizando filtro."
   ]
  },
  {
   "cell_type": "markdown",
   "id": "plain-consumption",
   "metadata": {},
   "source": [
    "## 3. Qual foi o total de gastos dos clientes nos últimos 30, 60 e 90 dias?"
   ]
  },
  {
   "cell_type": "markdown",
   "id": "pleased-square",
   "metadata": {},
   "source": [
    "### 3.1 Gasto total nos últimas 30 dias"
   ]
  },
  {
   "cell_type": "code",
   "execution_count": 31,
   "id": "underlying-permission",
   "metadata": {},
   "outputs": [
    {
     "data": {
      "text/plain": [
       "\n",
       "\n",
       "Table: Gasto Total nos Últimos 30 Dias\n",
       "\n",
       "| Total_de_Gastos|\n",
       "|---------------:|\n",
       "|          222180|"
      ]
     },
     "metadata": {},
     "output_type": "display_data"
    }
   ],
   "source": [
    "# Total de gastos nos últimos 30 dias\n",
    "tb4<-df %>%\n",
    "filter(Dias_decorridos<30) %>%\n",
    "summarize(Total_de_Gastos=sum(Frescos)+sum(Lacteos)+sum(Mercearia)\n",
    "          +sum(Congelados)+sum(Limpeza)+sum(Delicatessen))\n",
    "kable(tb4,caption=\"Gasto Total nos Últimos 30 Dias\")"
   ]
  },
  {
   "cell_type": "markdown",
   "id": "indirect-madagascar",
   "metadata": {},
   "source": [
    "* Total de gasto dos clientes nos últimos 30 dias foi de 222.180 dólares."
   ]
  },
  {
   "cell_type": "markdown",
   "id": "twelve-polymer",
   "metadata": {},
   "source": [
    "### 3.2 Gasto total nos úlimos 60 dias"
   ]
  },
  {
   "cell_type": "code",
   "execution_count": 32,
   "id": "funny-change",
   "metadata": {},
   "outputs": [
    {
     "data": {
      "text/plain": [
       "\n",
       "\n",
       "Table: Gasto Total nos Últimos 60 Dias\n",
       "\n",
       "| Total_de_Gastos|\n",
       "|---------------:|\n",
       "|          500169|"
      ]
     },
     "metadata": {},
     "output_type": "display_data"
    }
   ],
   "source": [
    "# Total de gastos nos últimos 60 dias\n",
    "tb5<-df %>%\n",
    "filter(Dias_decorridos<60) %>%\n",
    "summarize(Total_de_Gastos=sum(Frescos)+sum(Lacteos)+sum(Mercearia)\n",
    "          +sum(Congelados)+sum(Limpeza)+sum(Delicatessen))\n",
    "kable(tb5,caption=\"Gasto Total nos Últimos 60 Dias\")"
   ]
  },
  {
   "cell_type": "markdown",
   "id": "demographic-genesis",
   "metadata": {},
   "source": [
    "* Total de gasto dos clientes nos últimos 60 dias foi de 500.169 dólares."
   ]
  },
  {
   "cell_type": "markdown",
   "id": "comic-requirement",
   "metadata": {},
   "source": [
    "### 3.3 Gasto total nos últimos 90 dias"
   ]
  },
  {
   "cell_type": "code",
   "execution_count": 33,
   "id": "coordinated-writer",
   "metadata": {},
   "outputs": [
    {
     "data": {
      "text/plain": [
       "\n",
       "\n",
       "Table: Gasto Total nos Últimos 90 Dias\n",
       "\n",
       "| Total_de_Gastos|\n",
       "|---------------:|\n",
       "|          648252|"
      ]
     },
     "metadata": {},
     "output_type": "display_data"
    }
   ],
   "source": [
    "# Total de gastos nos últimos 90 dias\n",
    "tb6<-df %>%\n",
    "filter(Dias_decorridos<90) %>%\n",
    "summarize(Total_de_Gastos=sum(Frescos)+sum(Lacteos)+sum(Mercearia)\n",
    "          +sum(Congelados)+sum(Limpeza)+sum(Delicatessen))\n",
    "kable(tb6,caption=\"Gasto Total nos Últimos 90 Dias\")"
   ]
  },
  {
   "cell_type": "markdown",
   "id": "behavioral-collection",
   "metadata": {},
   "source": [
    "* Total de gasto dos clientes nos últimos 90 dias foi de 648.252 dólares."
   ]
  },
  {
   "cell_type": "markdown",
   "id": "centered-nicaragua",
   "metadata": {},
   "source": [
    "## 4. Qual foi o total de gastos por categoria de produtos nos últimos 30, 60 e 90 dias?"
   ]
  },
  {
   "cell_type": "markdown",
   "id": "sufficient-fruit",
   "metadata": {},
   "source": [
    "### 4.1 Gasto total por produto nos últimos 30 dias"
   ]
  },
  {
   "cell_type": "code",
   "execution_count": 34,
   "id": "limiting-combat",
   "metadata": {},
   "outputs": [
    {
     "data": {
      "text/plain": [
       "\n",
       "\n",
       "Table: Gasto Total por Produto Últimos 30 Dias\n",
       "\n",
       "| Frescos| Lacteos| Mercearia| Congelados| Limpeza| Delicatessen|\n",
       "|-------:|-------:|---------:|----------:|-------:|------------:|\n",
       "|   78469|   40073|     67116|      17008|   10065|         9449|"
      ]
     },
     "metadata": {},
     "output_type": "display_data"
    }
   ],
   "source": [
    "# Gastos últimos 30 dias\n",
    "tb7<-df %>%\n",
    "filter(Dias_decorridos<30) %>%\n",
    "summarize(Frescos=sum(Frescos),Lacteos=sum(Lacteos),Mercearia=sum(Mercearia),\n",
    "          Congelados=sum(Congelados),Limpeza=sum(Limpeza),Delicatessen=sum(Delicatessen))\n",
    "kable(tb7,caption=\"Gasto Total por Produto Últimos 30 Dias\")"
   ]
  },
  {
   "cell_type": "markdown",
   "id": "critical-bahrain",
   "metadata": {},
   "source": [
    "### 4.2 Gasto total por produto nos últimos 60 dias"
   ]
  },
  {
   "cell_type": "code",
   "execution_count": 35,
   "id": "prerequisite-encoding",
   "metadata": {},
   "outputs": [
    {
     "data": {
      "text/plain": [
       "\n",
       "\n",
       "Table: Gasto Total por Produto Últimos 60 Dias\n",
       "\n",
       "| Frescos| Lacteos| Mercearia| Congelados| Limpeza| Delicatessen|\n",
       "|-------:|-------:|---------:|----------:|-------:|------------:|\n",
       "|  170610|   91885|    128863|      52350|   37849|        18612|"
      ]
     },
     "metadata": {},
     "output_type": "display_data"
    }
   ],
   "source": [
    "# Gastos nos últimos 60 dias\n",
    "tb8<-df %>%\n",
    "filter(Dias_decorridos<60) %>%\n",
    "summarize(Frescos=sum(Frescos),Lacteos=sum(Lacteos),Mercearia=sum(Mercearia),\n",
    "          Congelados=sum(Congelados),Limpeza=sum(Limpeza),Delicatessen=sum(Delicatessen))\n",
    "kable(tb8,caption=\"Gasto Total por Produto Últimos 60 Dias\")"
   ]
  },
  {
   "cell_type": "markdown",
   "id": "decreased-gothic",
   "metadata": {},
   "source": [
    "### 4.3 Gasto total por produto nos últimos 90 dias"
   ]
  },
  {
   "cell_type": "code",
   "execution_count": 36,
   "id": "resistant-logging",
   "metadata": {},
   "outputs": [
    {
     "data": {
      "text/plain": [
       "\n",
       "\n",
       "Table: Gasto Total por Produto Últimos 90 Dias\n",
       "\n",
       "| Frescos| Lacteos| Mercearia| Congelados| Limpeza| Delicatessen|\n",
       "|-------:|-------:|---------:|----------:|-------:|------------:|\n",
       "|  235072|  116040|    160946|      65977|   48077|        22140|"
      ]
     },
     "metadata": {},
     "output_type": "display_data"
    }
   ],
   "source": [
    "# Gastos nos últimos 90 dias\n",
    "tb10<-df %>%\n",
    "filter(Dias_decorridos<90) %>%\n",
    "summarize(Frescos=sum(Frescos),Lacteos=sum(Lacteos),Mercearia=sum(Mercearia),\n",
    "          Congelados=sum(Congelados),Limpeza=sum(Limpeza),Delicatessen=sum(Delicatessen))\n",
    "kable(tb10,caption=\"Gasto Total por Produto Últimos 90 Dias\")"
   ]
  },
  {
   "cell_type": "markdown",
   "id": "allied-northeast",
   "metadata": {},
   "source": [
    "## 5. Qual o total de gastos dos clientes por ano?"
   ]
  },
  {
   "cell_type": "code",
   "execution_count": 37,
   "id": "wicked-sheffield",
   "metadata": {},
   "outputs": [
    {
     "data": {
      "text/plain": [
       "\n",
       "\n",
       "Table: Total de Gastos por Ano\n",
       "\n",
       "|Ano  | Total_de_Gastos|\n",
       "|:----|---------------:|\n",
       "|2015 |         2792118|\n",
       "|2016 |         2969482|\n",
       "|2017 |         2917282|\n",
       "|2018 |         3674278|\n",
       "|2019 |         2266340|"
      ]
     },
     "metadata": {},
     "output_type": "display_data"
    }
   ],
   "source": [
    "# Total de gastos por ano\n",
    "tb11<-df %>%\n",
    "group_by(Ano) %>%\n",
    "summarize(Total_de_Gastos=sum(Frescos)+sum(Lacteos)+sum(Mercearia)\n",
    "          +sum(Congelados)+sum(Limpeza)+sum(Delicatessen))\n",
    "kable(tb11,caption=\"Total de Gastos por Ano\")"
   ]
  },
  {
   "cell_type": "markdown",
   "id": "complete-reputation",
   "metadata": {},
   "source": [
    "* A tabela acima apresenta o total de gastos dos clientes por ano de 2015 a 2019."
   ]
  },
  {
   "cell_type": "markdown",
   "id": "earned-tension",
   "metadata": {},
   "source": [
    "## 6. Segmentação de mercado"
   ]
  },
  {
   "cell_type": "markdown",
   "id": "affiliated-sitting",
   "metadata": {},
   "source": [
    "### 6.1 Segmentação Hierárquica"
   ]
  },
  {
   "cell_type": "markdown",
   "id": "portable-bhutan",
   "metadata": {},
   "source": [
    "* Iremos usar o método de clustering hierárquico com as variáveis que representam gastos com tipos de produtos para classificar elementos em grupos \"semelhantes\".\n",
    "* Primeiramente, iremos formar os clusters mantendo valores outliers."
   ]
  },
  {
   "cell_type": "code",
   "execution_count": 38,
   "id": "alone-optimization",
   "metadata": {},
   "outputs": [],
   "source": [
    "# Removendo variáveis não importantes\n",
    "df2<- df[,-c(1,2,9,10,11)]"
   ]
  },
  {
   "cell_type": "code",
   "execution_count": 39,
   "id": "czech-wellington",
   "metadata": {},
   "outputs": [
    {
     "name": "stdout",
     "output_type": "stream",
     "text": [
      "Rows: 440\n",
      "Columns: 6\n",
      "$ Frescos      <int> 12669, 7057, 6353, 13265, 22615, 9413, 12126, 7579, 5963,~\n",
      "$ Lacteos      <int> 9656, 9810, 8808, 1196, 5410, 8259, 3199, 4956, 3648, 110~\n",
      "$ Mercearia    <int> 7561, 9568, 7684, 4221, 7198, 5126, 6975, 9426, 6192, 188~\n",
      "$ Congelados   <int> 214, 1762, 2405, 6404, 3915, 666, 480, 1669, 425, 1159, 4~\n",
      "$ Limpeza      <int> 2674, 3293, 3516, 507, 1777, 1795, 3140, 3321, 1716, 7425~\n",
      "$ Delicatessen <int> 1338, 1776, 7844, 1788, 5185, 1451, 545, 2566, 750, 2098,~\n"
     ]
    }
   ],
   "source": [
    "# Informações gerais\n",
    "glimpse(df2)"
   ]
  },
  {
   "cell_type": "code",
   "execution_count": 40,
   "id": "tamil-easter",
   "metadata": {},
   "outputs": [],
   "source": [
    "# Padronizando as variáveis\n",
    "df2_scaled<- scale(df2)"
   ]
  },
  {
   "cell_type": "code",
   "execution_count": 41,
   "id": "labeled-coalition",
   "metadata": {},
   "outputs": [
    {
     "data": {
      "text/html": [
       "<table>\n",
       "<thead><tr><th scope=col>Frescos</th><th scope=col>Lacteos</th><th scope=col>Mercearia</th><th scope=col>Congelados</th><th scope=col>Limpeza</th><th scope=col>Delicatessen</th></tr></thead>\n",
       "<tbody>\n",
       "\t<tr><td> 0.05287300</td><td> 0.52297247</td><td>-0.04106815</td><td>-0.5886970 </td><td>-0.04351919</td><td>-0.06626363</td></tr>\n",
       "\t<tr><td>-0.39085706</td><td> 0.54383861</td><td> 0.17012470</td><td>-0.2698290 </td><td> 0.08630859</td><td> 0.08904969</td></tr>\n",
       "\t<tr><td>-0.44652098</td><td> 0.40807319</td><td>-0.02812509</td><td>-0.1373793 </td><td> 0.13308016</td><td> 2.24074190</td></tr>\n",
       "\t<tr><td> 0.09999758</td><td>-0.62331041</td><td>-0.39253008</td><td> 0.6863630 </td><td>-0.49802132</td><td> 0.09330484</td></tr>\n",
       "\t<tr><td> 0.83928412</td><td>-0.05233688</td><td>-0.07926595</td><td> 0.1736612 </td><td>-0.23165413</td><td> 1.29786952</td></tr>\n",
       "\t<tr><td>-0.20457266</td><td> 0.33368675</td><td>-0.29729863</td><td>-0.4955909 </td><td>-0.22787885</td><td>-0.02619421</td></tr>\n",
       "</tbody>\n",
       "</table>\n"
      ],
      "text/latex": [
       "\\begin{tabular}{llllll}\n",
       " Frescos & Lacteos & Mercearia & Congelados & Limpeza & Delicatessen\\\\\n",
       "\\hline\n",
       "\t  0.05287300 &  0.52297247 & -0.04106815 & -0.5886970  & -0.04351919 & -0.06626363\\\\\n",
       "\t -0.39085706 &  0.54383861 &  0.17012470 & -0.2698290  &  0.08630859 &  0.08904969\\\\\n",
       "\t -0.44652098 &  0.40807319 & -0.02812509 & -0.1373793  &  0.13308016 &  2.24074190\\\\\n",
       "\t  0.09999758 & -0.62331041 & -0.39253008 &  0.6863630  & -0.49802132 &  0.09330484\\\\\n",
       "\t  0.83928412 & -0.05233688 & -0.07926595 &  0.1736612  & -0.23165413 &  1.29786952\\\\\n",
       "\t -0.20457266 &  0.33368675 & -0.29729863 & -0.4955909  & -0.22787885 & -0.02619421\\\\\n",
       "\\end{tabular}\n"
      ],
      "text/markdown": [
       "\n",
       "| Frescos | Lacteos | Mercearia | Congelados | Limpeza | Delicatessen |\n",
       "|---|---|---|---|---|---|\n",
       "|  0.05287300 |  0.52297247 | -0.04106815 | -0.5886970  | -0.04351919 | -0.06626363 |\n",
       "| -0.39085706 |  0.54383861 |  0.17012470 | -0.2698290  |  0.08630859 |  0.08904969 |\n",
       "| -0.44652098 |  0.40807319 | -0.02812509 | -0.1373793  |  0.13308016 |  2.24074190 |\n",
       "|  0.09999758 | -0.62331041 | -0.39253008 |  0.6863630  | -0.49802132 |  0.09330484 |\n",
       "|  0.83928412 | -0.05233688 | -0.07926595 |  0.1736612  | -0.23165413 |  1.29786952 |\n",
       "| -0.20457266 |  0.33368675 | -0.29729863 | -0.4955909  | -0.22787885 | -0.02619421 |\n",
       "\n"
      ],
      "text/plain": [
       "     Frescos     Lacteos     Mercearia   Congelados Limpeza     Delicatessen\n",
       "[1,]  0.05287300  0.52297247 -0.04106815 -0.5886970 -0.04351919 -0.06626363 \n",
       "[2,] -0.39085706  0.54383861  0.17012470 -0.2698290  0.08630859  0.08904969 \n",
       "[3,] -0.44652098  0.40807319 -0.02812509 -0.1373793  0.13308016  2.24074190 \n",
       "[4,]  0.09999758 -0.62331041 -0.39253008  0.6863630 -0.49802132  0.09330484 \n",
       "[5,]  0.83928412 -0.05233688 -0.07926595  0.1736612 -0.23165413  1.29786952 \n",
       "[6,] -0.20457266  0.33368675 -0.29729863 -0.4955909 -0.22787885 -0.02619421 "
      ]
     },
     "metadata": {},
     "output_type": "display_data"
    }
   ],
   "source": [
    "# Visualizando as seis primeiras linhas dos dados padronizados\n",
    "head(df2_scaled)"
   ]
  },
  {
   "cell_type": "code",
   "execution_count": 42,
   "id": "stuck-hawaiian",
   "metadata": {},
   "outputs": [],
   "source": [
    "# Calculando distância\n",
    "distancia<- dist(df2_scaled)"
   ]
  },
  {
   "cell_type": "code",
   "execution_count": 43,
   "id": "satellite-military",
   "metadata": {},
   "outputs": [],
   "source": [
    "# Clustering\n",
    "cluster<- hclust(distancia,method=\"ward.D2\")"
   ]
  },
  {
   "cell_type": "code",
   "execution_count": 44,
   "id": "apart-norfolk",
   "metadata": {},
   "outputs": [
    {
     "data": {
      "image/png": "[encoded data removed]",
      "text/plain": [
       "plot without title"
      ]
     },
     "metadata": {},
     "output_type": "display_data"
    }
   ],
   "source": [
    "# Plotando dendograma\n",
    "fviz_dend(cluster, cex = 0.5)"
   ]
  },
  {
   "cell_type": "code",
   "execution_count": 45,
   "id": "better-bundle",
   "metadata": {},
   "outputs": [],
   "source": [
    "# Reduzindo número de segmentos para k=4\n",
    "cluster_k4<- cutree(cluster,k=4)"
   ]
  },
  {
   "cell_type": "code",
   "execution_count": 46,
   "id": "thirty-tourist",
   "metadata": {},
   "outputs": [
    {
     "data": {
      "image/png": "[encoded data removed]",
      "text/plain": [
       "plot without title"
      ]
     },
     "metadata": {},
     "output_type": "display_data"
    }
   ],
   "source": [
    "# Plotando dendograma k=4\n",
    "fviz_dend(cluster, cex = 0.5, k = 4, color_labels_by_k = TRUE,rect = TRUE)"
   ]
  },
  {
   "cell_type": "code",
   "execution_count": 47,
   "id": "signed-fusion",
   "metadata": {},
   "outputs": [
    {
     "data": {
      "text/plain": [
       "\n",
       "\n",
       "Table: Frequência k=4\n",
       "\n",
       "|cluster_k4 | Freq|\n",
       "|:----------|----:|\n",
       "|1          |  153|\n",
       "|2          |  281|\n",
       "|3          |    5|\n",
       "|4          |    1|"
      ]
     },
     "metadata": {},
     "output_type": "display_data"
    }
   ],
   "source": [
    "# Tabela de frequência k=4\n",
    "table<-table(cluster_k4)\n",
    "kable(table,caption=\"Frequência k=4\")"
   ]
  },
  {
   "cell_type": "markdown",
   "id": "humanitarian-routine",
   "metadata": {},
   "source": [
    "* A presença de outliers leva a formação de clusters com poucos observações. O cluster 4 possui 1 única observação.\n",
    "* Para resolver esse problema, iremos filtrar os dados para excluir gastos maiores de 45 mil."
   ]
  },
  {
   "cell_type": "code",
   "execution_count": 48,
   "id": "robust-participation",
   "metadata": {},
   "outputs": [],
   "source": [
    "# Filtrando os dados\n",
    "df3<- df2 %>%\n",
    "filter(Frescos<45000 & Lacteos <45000 & Mercearia<45000 & Congelados <45000 & Limpeza <45000 & Delicatessen<45000)"
   ]
  },
  {
   "cell_type": "code",
   "execution_count": 49,
   "id": "recovered-andrew",
   "metadata": {},
   "outputs": [],
   "source": [
    "# Padronizando as variáveis\n",
    "df3_scaled<- scale(df3)"
   ]
  },
  {
   "cell_type": "code",
   "execution_count": 50,
   "id": "yellow-intake",
   "metadata": {},
   "outputs": [],
   "source": [
    "# Calculando distância\n",
    "distancia2<- dist(df3_scaled)"
   ]
  },
  {
   "cell_type": "code",
   "execution_count": 51,
   "id": "vocational-parent",
   "metadata": {},
   "outputs": [],
   "source": [
    "# Clustering\n",
    "cluster2<- hclust(distancia2,method=\"ward.D2\")"
   ]
  },
  {
   "cell_type": "code",
   "execution_count": 52,
   "id": "ongoing-arbitration",
   "metadata": {},
   "outputs": [
    {
     "data": {
      "image/png": "[encoded data removed]",
      "text/plain": [
       "plot without title"
      ]
     },
     "metadata": {},
     "output_type": "display_data"
    }
   ],
   "source": [
    "# Plotando dendograma\n",
    "fviz_dend(cluster2, cex = 0.5)"
   ]
  },
  {
   "cell_type": "code",
   "execution_count": 53,
   "id": "aggregate-sharing",
   "metadata": {},
   "outputs": [],
   "source": [
    "# Reduzindo número de segmentos para k=4\n",
    "cluster2_k4<- cutree(cluster2,k=4)"
   ]
  },
  {
   "cell_type": "code",
   "execution_count": 54,
   "id": "spanish-oklahoma",
   "metadata": {},
   "outputs": [
    {
     "data": {
      "image/png": "[encoded data removed]",
      "text/plain": [
       "plot without title"
      ]
     },
     "metadata": {},
     "output_type": "display_data"
    }
   ],
   "source": [
    "# Plotando dendograma k=4\n",
    "fviz_dend(cluster2, cex = 0.5, k = 4, color_labels_by_k = TRUE,rect = TRUE)"
   ]
  },
  {
   "cell_type": "code",
   "execution_count": 55,
   "id": "regulation-smoke",
   "metadata": {},
   "outputs": [
    {
     "data": {
      "text/plain": [
       "\n",
       "\n",
       "Table: Frequência k=4 c/filtro\n",
       "\n",
       "|cluster2_k4 | Freq|\n",
       "|:-----------|----:|\n",
       "|1           |  227|\n",
       "|2           |  107|\n",
       "|3           |   57|\n",
       "|4           |   31|"
      ]
     },
     "metadata": {},
     "output_type": "display_data"
    }
   ],
   "source": [
    "# Tabela de frequência\n",
    "table<-table(cluster2_k4)\n",
    "kable(table,caption=\"Frequência k=4 c/filtro\")"
   ]
  },
  {
   "cell_type": "code",
   "execution_count": 76,
   "id": "excessive-satin",
   "metadata": {},
   "outputs": [],
   "source": [
    "# Inserir coluna com cluster\n",
    "df3$cluster<- factor(cluster2_k4,labels=c(\"Cluster 1\",\"Cluster 2\",\"Cluster 3\",\"Cluster 4\"))"
   ]
  },
  {
   "cell_type": "code",
   "execution_count": 75,
   "id": "interested-voluntary",
   "metadata": {},
   "outputs": [],
   "source": [
    "df3<-df3[,-7]"
   ]
  },
  {
   "cell_type": "markdown",
   "id": "sunset-copyright",
   "metadata": {},
   "source": [
    "* Com a divisão em segmentos podemos visualizar cada observação com seu referido grupo"
   ]
  },
  {
   "cell_type": "code",
   "execution_count": 77,
   "id": "suspended-dodge",
   "metadata": {},
   "outputs": [
    {
     "data": {
      "text/html": [
       "<table>\n",
       "<thead><tr><th scope=col>Frescos</th><th scope=col>Lacteos</th><th scope=col>Mercearia</th><th scope=col>Congelados</th><th scope=col>Limpeza</th><th scope=col>Delicatessen</th><th scope=col>cluster</th></tr></thead>\n",
       "<tbody>\n",
       "\t<tr><td>12669    </td><td>9656     </td><td>7561     </td><td> 214     </td><td>2674     </td><td>1338     </td><td>Cluster 1</td></tr>\n",
       "\t<tr><td> 7057    </td><td>9810     </td><td>9568     </td><td>1762     </td><td>3293     </td><td>1776     </td><td>Cluster 2</td></tr>\n",
       "\t<tr><td> 6353    </td><td>8808     </td><td>7684     </td><td>2405     </td><td>3516     </td><td>7844     </td><td>Cluster 3</td></tr>\n",
       "\t<tr><td>13265    </td><td>1196     </td><td>4221     </td><td>6404     </td><td> 507     </td><td>1788     </td><td>Cluster 1</td></tr>\n",
       "\t<tr><td>22615    </td><td>5410     </td><td>7198     </td><td>3915     </td><td>1777     </td><td>5185     </td><td>Cluster 3</td></tr>\n",
       "\t<tr><td> 9413    </td><td>8259     </td><td>5126     </td><td> 666     </td><td>1795     </td><td>1451     </td><td>Cluster 1</td></tr>\n",
       "</tbody>\n",
       "</table>\n"
      ],
      "text/latex": [
       "\\begin{tabular}{r|lllllll}\n",
       " Frescos & Lacteos & Mercearia & Congelados & Limpeza & Delicatessen & cluster\\\\\n",
       "\\hline\n",
       "\t 12669     & 9656      & 7561      &  214      & 2674      & 1338      & Cluster 1\\\\\n",
       "\t  7057     & 9810      & 9568      & 1762      & 3293      & 1776      & Cluster 2\\\\\n",
       "\t  6353     & 8808      & 7684      & 2405      & 3516      & 7844      & Cluster 3\\\\\n",
       "\t 13265     & 1196      & 4221      & 6404      &  507      & 1788      & Cluster 1\\\\\n",
       "\t 22615     & 5410      & 7198      & 3915      & 1777      & 5185      & Cluster 3\\\\\n",
       "\t  9413     & 8259      & 5126      &  666      & 1795      & 1451      & Cluster 1\\\\\n",
       "\\end{tabular}\n"
      ],
      "text/markdown": [
       "\n",
       "| Frescos | Lacteos | Mercearia | Congelados | Limpeza | Delicatessen | cluster |\n",
       "|---|---|---|---|---|---|---|\n",
       "| 12669     | 9656      | 7561      |  214      | 2674      | 1338      | Cluster 1 |\n",
       "|  7057     | 9810      | 9568      | 1762      | 3293      | 1776      | Cluster 2 |\n",
       "|  6353     | 8808      | 7684      | 2405      | 3516      | 7844      | Cluster 3 |\n",
       "| 13265     | 1196      | 4221      | 6404      |  507      | 1788      | Cluster 1 |\n",
       "| 22615     | 5410      | 7198      | 3915      | 1777      | 5185      | Cluster 3 |\n",
       "|  9413     | 8259      | 5126      |  666      | 1795      | 1451      | Cluster 1 |\n",
       "\n"
      ],
      "text/plain": [
       "  Frescos Lacteos Mercearia Congelados Limpeza Delicatessen cluster  \n",
       "1 12669   9656    7561       214       2674    1338         Cluster 1\n",
       "2  7057   9810    9568      1762       3293    1776         Cluster 2\n",
       "3  6353   8808    7684      2405       3516    7844         Cluster 3\n",
       "4 13265   1196    4221      6404        507    1788         Cluster 1\n",
       "5 22615   5410    7198      3915       1777    5185         Cluster 3\n",
       "6  9413   8259    5126       666       1795    1451         Cluster 1"
      ]
     },
     "metadata": {},
     "output_type": "display_data"
    }
   ],
   "source": [
    "# Visualizar as seis primeiras linhas do dataset com clusters\n",
    "head(df3)"
   ]
  },
  {
   "cell_type": "markdown",
   "id": "promotional-compound",
   "metadata": {},
   "source": [
    "* Podemos visualizar o gasto médio, mediana e o total de gasto por cluster.\n",
    "* Isso pode ser usado pela equipe de vendas, marketing, etc."
   ]
  },
  {
   "cell_type": "code",
   "execution_count": 78,
   "id": "advanced-missouri",
   "metadata": {},
   "outputs": [
    {
     "data": {
      "text/html": [
       "<table>\n",
       "<thead><tr><th scope=col>Group.1</th><th scope=col>Frescos</th><th scope=col>Lacteos</th><th scope=col>Mercearia</th><th scope=col>Congelados</th><th scope=col>Limpeza</th><th scope=col>Delicatessen</th></tr></thead>\n",
       "<tbody>\n",
       "\t<tr><td>1        </td><td> 8865.454</td><td> 2472.634</td><td> 3278.683</td><td> 2099.097</td><td> 810.3921</td><td> 722.489 </td></tr>\n",
       "\t<tr><td>2        </td><td> 5025.402</td><td>10888.832</td><td>16325.421</td><td> 1649.000</td><td>7252.1869</td><td>1605.103 </td></tr>\n",
       "\t<tr><td>3        </td><td>23772.105</td><td> 5731.842</td><td> 7371.123</td><td> 2171.000</td><td>1781.2281</td><td>3280.333 </td></tr>\n",
       "\t<tr><td>4        </td><td>17942.484</td><td> 4311.968</td><td> 4149.935</td><td>11816.968</td><td> 564.6452</td><td>1754.194 </td></tr>\n",
       "</tbody>\n",
       "</table>\n"
      ],
      "text/latex": [
       "\\begin{tabular}{r|lllllll}\n",
       " Group.1 & Frescos & Lacteos & Mercearia & Congelados & Limpeza & Delicatessen\\\\\n",
       "\\hline\n",
       "\t 1         &  8865.454 &  2472.634 &  3278.683 &  2099.097 &  810.3921 &  722.489 \\\\\n",
       "\t 2         &  5025.402 & 10888.832 & 16325.421 &  1649.000 & 7252.1869 & 1605.103 \\\\\n",
       "\t 3         & 23772.105 &  5731.842 &  7371.123 &  2171.000 & 1781.2281 & 3280.333 \\\\\n",
       "\t 4         & 17942.484 &  4311.968 &  4149.935 & 11816.968 &  564.6452 & 1754.194 \\\\\n",
       "\\end{tabular}\n"
      ],
      "text/markdown": [
       "\n",
       "| Group.1 | Frescos | Lacteos | Mercearia | Congelados | Limpeza | Delicatessen |\n",
       "|---|---|---|---|---|---|---|\n",
       "| 1         |  8865.454 |  2472.634 |  3278.683 |  2099.097 |  810.3921 |  722.489  |\n",
       "| 2         |  5025.402 | 10888.832 | 16325.421 |  1649.000 | 7252.1869 | 1605.103  |\n",
       "| 3         | 23772.105 |  5731.842 |  7371.123 |  2171.000 | 1781.2281 | 3280.333  |\n",
       "| 4         | 17942.484 |  4311.968 |  4149.935 | 11816.968 |  564.6452 | 1754.194  |\n",
       "\n"
      ],
      "text/plain": [
       "  Group.1 Frescos   Lacteos   Mercearia Congelados Limpeza   Delicatessen\n",
       "1 1        8865.454  2472.634  3278.683  2099.097   810.3921  722.489    \n",
       "2 2        5025.402 10888.832 16325.421  1649.000  7252.1869 1605.103    \n",
       "3 3       23772.105  5731.842  7371.123  2171.000  1781.2281 3280.333    \n",
       "4 4       17942.484  4311.968  4149.935 11816.968   564.6452 1754.194    "
      ]
     },
     "metadata": {},
     "output_type": "display_data"
    }
   ],
   "source": [
    "# Perfil de cada segmento pela média\n",
    "aggregate(df3[,-7],by=list(cluster2_k4),mean)"
   ]
  },
  {
   "cell_type": "code",
   "execution_count": 99,
   "id": "molecular-nickel",
   "metadata": {},
   "outputs": [
    {
     "data": {
      "text/html": [
       "<table>\n",
       "<thead><tr><th scope=col>Group.1</th><th scope=col>Frescos</th><th scope=col>Lacteos</th><th scope=col>Mercearia</th><th scope=col>Congelados</th><th scope=col>Limpeza</th><th scope=col>Delicatessen</th></tr></thead>\n",
       "<tbody>\n",
       "\t<tr><td>1    </td><td> 7588</td><td>1825 </td><td> 2475</td><td>1389 </td><td> 375 </td><td> 610 </td></tr>\n",
       "\t<tr><td>2    </td><td> 4389</td><td>9540 </td><td>14403</td><td>1069 </td><td>6740 </td><td>1393 </td></tr>\n",
       "\t<tr><td>3    </td><td>22321</td><td>4786 </td><td> 6550</td><td>1718 </td><td>1107 </td><td>2503 </td></tr>\n",
       "\t<tr><td>4    </td><td>17023</td><td>3575 </td><td> 3202</td><td>9927 </td><td> 385 </td><td>1498 </td></tr>\n",
       "</tbody>\n",
       "</table>\n"
      ],
      "text/latex": [
       "\\begin{tabular}{r|lllllll}\n",
       " Group.1 & Frescos & Lacteos & Mercearia & Congelados & Limpeza & Delicatessen\\\\\n",
       "\\hline\n",
       "\t 1     &  7588 & 1825  &  2475 & 1389  &  375  &  610 \\\\\n",
       "\t 2     &  4389 & 9540  & 14403 & 1069  & 6740  & 1393 \\\\\n",
       "\t 3     & 22321 & 4786  &  6550 & 1718  & 1107  & 2503 \\\\\n",
       "\t 4     & 17023 & 3575  &  3202 & 9927  &  385  & 1498 \\\\\n",
       "\\end{tabular}\n"
      ],
      "text/markdown": [
       "\n",
       "| Group.1 | Frescos | Lacteos | Mercearia | Congelados | Limpeza | Delicatessen |\n",
       "|---|---|---|---|---|---|---|\n",
       "| 1     |  7588 | 1825  |  2475 | 1389  |  375  |  610  |\n",
       "| 2     |  4389 | 9540  | 14403 | 1069  | 6740  | 1393  |\n",
       "| 3     | 22321 | 4786  |  6550 | 1718  | 1107  | 2503  |\n",
       "| 4     | 17023 | 3575  |  3202 | 9927  |  385  | 1498  |\n",
       "\n"
      ],
      "text/plain": [
       "  Group.1 Frescos Lacteos Mercearia Congelados Limpeza Delicatessen\n",
       "1 1        7588   1825     2475     1389        375     610        \n",
       "2 2        4389   9540    14403     1069       6740    1393        \n",
       "3 3       22321   4786     6550     1718       1107    2503        \n",
       "4 4       17023   3575     3202     9927        385    1498        "
      ]
     },
     "metadata": {},
     "output_type": "display_data"
    }
   ],
   "source": [
    "# Perfil de cada segmento pela mediana\n",
    "aggregate(df3[,-7],by=list(cluster2_k4),median)"
   ]
  },
  {
   "cell_type": "code",
   "execution_count": 59,
   "id": "cooperative-rates",
   "metadata": {},
   "outputs": [
    {
     "data": {
      "text/html": [
       "<table>\n",
       "<thead><tr><th scope=col>Group.1</th><th scope=col>Frescos</th><th scope=col>Lacteos</th><th scope=col>Mercearia</th><th scope=col>Congelados</th><th scope=col>Limpeza</th><th scope=col>Delicatessen</th></tr></thead>\n",
       "<tbody>\n",
       "\t<tr><td>1      </td><td>2012458</td><td> 561288</td><td> 744261</td><td>476495 </td><td>183959 </td><td>164005 </td></tr>\n",
       "\t<tr><td>2      </td><td> 537718</td><td>1165105</td><td>1746820</td><td>176443 </td><td>775984 </td><td>171746 </td></tr>\n",
       "\t<tr><td>3      </td><td>1355010</td><td> 326715</td><td> 420154</td><td>123747 </td><td>101530 </td><td>186979 </td></tr>\n",
       "\t<tr><td>4      </td><td> 556217</td><td> 133671</td><td> 128648</td><td>366326 </td><td> 17504 </td><td> 54380 </td></tr>\n",
       "</tbody>\n",
       "</table>\n"
      ],
      "text/latex": [
       "\\begin{tabular}{r|lllllll}\n",
       " Group.1 & Frescos & Lacteos & Mercearia & Congelados & Limpeza & Delicatessen\\\\\n",
       "\\hline\n",
       "\t 1       & 2012458 &  561288 &  744261 & 476495  & 183959  & 164005 \\\\\n",
       "\t 2       &  537718 & 1165105 & 1746820 & 176443  & 775984  & 171746 \\\\\n",
       "\t 3       & 1355010 &  326715 &  420154 & 123747  & 101530  & 186979 \\\\\n",
       "\t 4       &  556217 &  133671 &  128648 & 366326  &  17504  &  54380 \\\\\n",
       "\\end{tabular}\n"
      ],
      "text/markdown": [
       "\n",
       "| Group.1 | Frescos | Lacteos | Mercearia | Congelados | Limpeza | Delicatessen |\n",
       "|---|---|---|---|---|---|---|\n",
       "| 1       | 2012458 |  561288 |  744261 | 476495  | 183959  | 164005  |\n",
       "| 2       |  537718 | 1165105 | 1746820 | 176443  | 775984  | 171746  |\n",
       "| 3       | 1355010 |  326715 |  420154 | 123747  | 101530  | 186979  |\n",
       "| 4       |  556217 |  133671 |  128648 | 366326  |  17504  |  54380  |\n",
       "\n"
      ],
      "text/plain": [
       "  Group.1 Frescos Lacteos Mercearia Congelados Limpeza Delicatessen\n",
       "1 1       2012458  561288  744261   476495     183959  164005      \n",
       "2 2        537718 1165105 1746820   176443     775984  171746      \n",
       "3 3       1355010  326715  420154   123747     101530  186979      \n",
       "4 4        556217  133671  128648   366326      17504   54380      "
      ]
     },
     "metadata": {},
     "output_type": "display_data"
    }
   ],
   "source": [
    "# Perfil de cada segmento pela soma\n",
    "aggregate(df3[,-7],by=list(cluster2_k4),sum)"
   ]
  },
  {
   "cell_type": "code",
   "execution_count": 98,
   "id": "gorgeous-nightmare",
   "metadata": {},
   "outputs": [
    {
     "data": {
      "image/png": "[encoded data removed]",
      "text/plain": [
       "plot without title"
      ]
     },
     "metadata": {},
     "output_type": "display_data"
    }
   ],
   "source": [
    "# Plotando tipo de produto por cluster\n",
    "p<- geom_boxplot(aes(fill=cluster),alpha=0.5,show.legend=F,outlier.color=\"grey\")\n",
    "a<-df3 %>%\n",
    "ggplot(aes(cluster,Frescos)) + p + labs(title=\"Produtos Frescos\",y=NULL,x=NULL)\n",
    "b<-df3 %>%\n",
    "ggplot(aes(cluster,Lacteos)) + p + labs(title=\"Produtos Lácteos\",y=NULL,x=NULL)\n",
    "c<-df3 %>%\n",
    "ggplot(aes(cluster,Mercearia)) + p + labs(title=\"Produtos de Mercearia\",y=NULL,x=NULL)\n",
    "d<-df3 %>%\n",
    "ggplot(aes(cluster,Congelados)) + p + labs(title=\"Produtos Congelados\",y=NULL,x=NULL)\n",
    "e<-df3 %>%\n",
    "ggplot(aes(cluster,Limpeza)) + p + labs(title=\"Produtos de Limpeza\",y=NULL,x=NULL)\n",
    "f<-df3 %>%\n",
    "ggplot(aes(cluster,Delicatessen)) + p + labs(title=\"Produtos Delicatessen\",y=NULL,x=NULL)\n",
    "grid.arrange(a,b,c,d,e,f,ncol=2)"
   ]
  },
  {
   "cell_type": "markdown",
   "id": "standing-tourist",
   "metadata": {},
   "source": [
    "### 6.2 Segmentação Por Atividade"
   ]
  },
  {
   "cell_type": "markdown",
   "id": "banned-steel",
   "metadata": {},
   "source": [
    "* Iremos realizar a segmentação a partir da \"temperatura\" do cliente, segundo o tempo decorrido desde a última compra.\n",
    "* Dividiremos em quatro grupos, que correspondem à compras mais de três anos, entre dois e três anos, entre um e dois anos, e compras nos últimos 365 dias. Respectivamente, clientes inativos, frio, quente e ativos."
   ]
  },
  {
   "cell_type": "code",
   "execution_count": 100,
   "id": "twenty-cemetery",
   "metadata": {},
   "outputs": [],
   "source": [
    "# Novo Data.frame\n",
    "df4<- df"
   ]
  },
  {
   "cell_type": "code",
   "execution_count": 103,
   "id": "weighted-skating",
   "metadata": {},
   "outputs": [],
   "source": [
    "# Criando segmentação\n",
    "df4$Segmento<- \"NA\"\n",
    "df4$Segmento[which(df4$Dias_decorridos > 1095)]<- \"Inativo\"\n",
    "df4$Segmento[which(df4$Dias_decorridos <= 1095 & df4$Dias_decorridos > 730)]<- \"Frio\"\n",
    "df4$Segmento[which(df4$Dias_decorridos <= 730 & df4$Dias_decorridos > 365)]<- \"Quente\"\n",
    "df4$Segmento[which(df4$Dias_decorridos <= 365)]<- \"Ativo\"                 "
   ]
  },
  {
   "cell_type": "code",
   "execution_count": 113,
   "id": "progressive-cycling",
   "metadata": {},
   "outputs": [],
   "source": [
    "# Transformando a variável segmentação em factor\n",
    "df4$Segmento<- factor(df4$Segmento,levels=c(\"Inativo\",\"Frio\",\"Quente\",\"Ativo\"))"
   ]
  },
  {
   "cell_type": "code",
   "execution_count": 115,
   "id": "prescribed-calvin",
   "metadata": {},
   "outputs": [
    {
     "data": {
      "text/plain": [
       "\n",
       "Inativo    Frio  Quente   Ativo \n",
       "    171      95      97      77 "
      ]
     },
     "metadata": {},
     "output_type": "display_data"
    }
   ],
   "source": [
    "# Contagem dos segmentos\n",
    "table(df4$Segmento)"
   ]
  },
  {
   "cell_type": "code",
   "execution_count": 116,
   "id": "sixth-festival",
   "metadata": {},
   "outputs": [
    {
     "data": {
      "text/html": [
       "<table>\n",
       "<thead><tr><th scope=col>Canal</th><th scope=col>Regiao</th><th scope=col>Frescos</th><th scope=col>Lacteos</th><th scope=col>Mercearia</th><th scope=col>Congelados</th><th scope=col>Limpeza</th><th scope=col>Delicatessen</th><th scope=col>Data</th><th scope=col>Ano</th><th scope=col>Dias_decorridos</th><th scope=col>Segmento</th></tr></thead>\n",
       "<tbody>\n",
       "\t<tr><td>2         </td><td>3         </td><td>12669     </td><td>9656      </td><td>7561      </td><td> 214      </td><td>2674      </td><td>1338      </td><td>2018-11-08</td><td>2018      </td><td> 419.0833 </td><td>Quente    </td></tr>\n",
       "\t<tr><td>2         </td><td>3         </td><td> 7057     </td><td>9810      </td><td>9568      </td><td>1762      </td><td>3293      </td><td>1776      </td><td>2019-04-02</td><td>2019      </td><td> 274.0833 </td><td>Ativo     </td></tr>\n",
       "\t<tr><td>2         </td><td>3         </td><td> 6353     </td><td>8808      </td><td>7684      </td><td>2405      </td><td>3516      </td><td>7844      </td><td>2017-05-28</td><td>2017      </td><td> 948.0833 </td><td>Frio      </td></tr>\n",
       "\t<tr><td>1         </td><td>3         </td><td>13265     </td><td>1196      </td><td>4221      </td><td>6404      </td><td> 507      </td><td>1788      </td><td>2017-10-28</td><td>2017      </td><td> 795.0833 </td><td>Frio      </td></tr>\n",
       "\t<tr><td>2         </td><td>3         </td><td>22615     </td><td>5410      </td><td>7198      </td><td>3915      </td><td>1777      </td><td>5185      </td><td>2016-06-28</td><td>2016      </td><td>1282.0833 </td><td>Inativo   </td></tr>\n",
       "\t<tr><td>2         </td><td>3         </td><td> 9413     </td><td>8259      </td><td>5126      </td><td> 666      </td><td>1795      </td><td>1451      </td><td>2016-09-17</td><td>2016      </td><td>1201.0833 </td><td>Inativo   </td></tr>\n",
       "</tbody>\n",
       "</table>\n"
      ],
      "text/latex": [
       "\\begin{tabular}{r|llllllllllll}\n",
       " Canal & Regiao & Frescos & Lacteos & Mercearia & Congelados & Limpeza & Delicatessen & Data & Ano & Dias\\_decorridos & Segmento\\\\\n",
       "\\hline\n",
       "\t 2          & 3          & 12669      & 9656       & 7561       &  214       & 2674       & 1338       & 2018-11-08 & 2018       &  419.0833  & Quente    \\\\\n",
       "\t 2          & 3          &  7057      & 9810       & 9568       & 1762       & 3293       & 1776       & 2019-04-02 & 2019       &  274.0833  & Ativo     \\\\\n",
       "\t 2          & 3          &  6353      & 8808       & 7684       & 2405       & 3516       & 7844       & 2017-05-28 & 2017       &  948.0833  & Frio      \\\\\n",
       "\t 1          & 3          & 13265      & 1196       & 4221       & 6404       &  507       & 1788       & 2017-10-28 & 2017       &  795.0833  & Frio      \\\\\n",
       "\t 2          & 3          & 22615      & 5410       & 7198       & 3915       & 1777       & 5185       & 2016-06-28 & 2016       & 1282.0833  & Inativo   \\\\\n",
       "\t 2          & 3          &  9413      & 8259       & 5126       &  666       & 1795       & 1451       & 2016-09-17 & 2016       & 1201.0833  & Inativo   \\\\\n",
       "\\end{tabular}\n"
      ],
      "text/markdown": [
       "\n",
       "| Canal | Regiao | Frescos | Lacteos | Mercearia | Congelados | Limpeza | Delicatessen | Data | Ano | Dias_decorridos | Segmento |\n",
       "|---|---|---|---|---|---|---|---|---|---|---|---|\n",
       "| 2          | 3          | 12669      | 9656       | 7561       |  214       | 2674       | 1338       | 2018-11-08 | 2018       |  419.0833  | Quente     |\n",
       "| 2          | 3          |  7057      | 9810       | 9568       | 1762       | 3293       | 1776       | 2019-04-02 | 2019       |  274.0833  | Ativo      |\n",
       "| 2          | 3          |  6353      | 8808       | 7684       | 2405       | 3516       | 7844       | 2017-05-28 | 2017       |  948.0833  | Frio       |\n",
       "| 1          | 3          | 13265      | 1196       | 4221       | 6404       |  507       | 1788       | 2017-10-28 | 2017       |  795.0833  | Frio       |\n",
       "| 2          | 3          | 22615      | 5410       | 7198       | 3915       | 1777       | 5185       | 2016-06-28 | 2016       | 1282.0833  | Inativo    |\n",
       "| 2          | 3          |  9413      | 8259       | 5126       |  666       | 1795       | 1451       | 2016-09-17 | 2016       | 1201.0833  | Inativo    |\n",
       "\n"
      ],
      "text/plain": [
       "  Canal Regiao Frescos Lacteos Mercearia Congelados Limpeza Delicatessen\n",
       "1 2     3      12669   9656    7561       214       2674    1338        \n",
       "2 2     3       7057   9810    9568      1762       3293    1776        \n",
       "3 2     3       6353   8808    7684      2405       3516    7844        \n",
       "4 1     3      13265   1196    4221      6404        507    1788        \n",
       "5 2     3      22615   5410    7198      3915       1777    5185        \n",
       "6 2     3       9413   8259    5126       666       1795    1451        \n",
       "  Data       Ano  Dias_decorridos Segmento\n",
       "1 2018-11-08 2018  419.0833       Quente  \n",
       "2 2019-04-02 2019  274.0833       Ativo   \n",
       "3 2017-05-28 2017  948.0833       Frio    \n",
       "4 2017-10-28 2017  795.0833       Frio    \n",
       "5 2016-06-28 2016 1282.0833       Inativo \n",
       "6 2016-09-17 2016 1201.0833       Inativo "
      ]
     },
     "metadata": {},
     "output_type": "display_data"
    }
   ],
   "source": [
    "# Visualizando as seis primeiras linhas do dataset com segmentos\n",
    "head(df4)"
   ]
  },
  {
   "cell_type": "code",
   "execution_count": 117,
   "id": "genuine-martial",
   "metadata": {},
   "outputs": [
    {
     "data": {
      "image/png": "[encoded data removed]",
      "text/plain": [
       "plot without title"
      ]
     },
     "metadata": {},
     "output_type": "display_data"
    }
   ],
   "source": [
    "# Plotando segmentos\n",
    "df4 %>%\n",
    "ggplot(aes(Segmento,fill=Segmento)) +\n",
    "geom_bar(alpha=.5,show.legend=F) +\n",
    "labs(x=NULL,y=NULL,title=\"Gráfico de Segmentos\") +\n",
    "theme(plot.title = element_text(hjust = 0.5),\n",
    "     axis.text.x=element_text(size=12))"
   ]
  },
  {
   "cell_type": "markdown",
   "id": "living-identification",
   "metadata": {},
   "source": [
    "* Calculando media e mediana por tipo de produto em cada segmento"
   ]
  },
  {
   "cell_type": "code",
   "execution_count": 124,
   "id": "working-cradle",
   "metadata": {},
   "outputs": [
    {
     "data": {
      "text/plain": [
       "\n",
       "\n",
       "Table: Média de Gastos por Segmento \n",
       "\n",
       "|Group.1 |   Frescos|  Lacteos| Mercearia| Congelados|  Limpeza| Delicatessen|\n",
       "|:-------|---------:|--------:|---------:|----------:|--------:|------------:|\n",
       "|Inativo | 11917.327| 6193.807|  7949.193|   3157.702| 2866.193|     1774.234|\n",
       "|Frio    | 14320.189| 3833.905|  5949.105|   2750.895| 2227.042|     1330.295|\n",
       "|Quente  | 11728.320| 7377.907| 10105.753|   3313.577| 3787.392|     1566.206|\n",
       "|Ativo   |  9664.974| 5342.052|  7712.039|   2973.130| 2581.714|     1159.078|"
      ]
     },
     "metadata": {},
     "output_type": "display_data"
    }
   ],
   "source": [
    "# Calculando média de gastos por segmento\n",
    "segmentos_media<-aggregate(df4[,3:8],by=list(df4$Segmento), mean)\n",
    "kable(segmentos,caption=\"Média de Gastos por Segmento \")"
   ]
  },
  {
   "cell_type": "code",
   "execution_count": 120,
   "id": "constitutional-amber",
   "metadata": {},
   "outputs": [
    {
     "data": {
      "text/plain": [
       "\n",
       "\n",
       "Table: Mediana de Gastos por Segmento \n",
       "\n",
       "|Group.1 | Frescos| Lacteos| Mercearia| Congelados| Limpeza| Delicatessen|\n",
       "|:-------|-------:|-------:|---------:|----------:|-------:|------------:|\n",
       "|Inativo |    9198|    3838|      4945|       1691|     788|          960|\n",
       "|Frio    |   10253|    2616|      3600|       1420|     716|          860|\n",
       "|Quente  |    7149|    4332|      6964|       1206|    1135|         1063|\n",
       "|Ativo   |    6300|    3154|      5109|       1762|     821|          750|"
      ]
     },
     "metadata": {},
     "output_type": "display_data"
    }
   ],
   "source": [
    "# Calculando mediana de gastos por segmento\n",
    "segmentos_mediana<-aggregate(df4[,3:8],by=list(df4$Segmento), median)\n",
    "kable(segmentos,caption=\"Mediana de Gastos por Segmento \")"
   ]
  },
  {
   "cell_type": "code",
   "execution_count": 127,
   "id": "informational-treaty",
   "metadata": {},
   "outputs": [
    {
     "data": {
      "image/png": "[encoded data removed]",
      "text/plain": [
       "plot without title"
      ]
     },
     "metadata": {},
     "output_type": "display_data"
    }
   ],
   "source": [
    "# Plotando média de gastos por segmento\n",
    "g<-geom_col(alpha=.5,show.legend=F) \n",
    "t<-theme(plot.title = element_text(hjust = 0.5))\n",
    "g1<-ggplot(segmentos_media,aes(Group.1,Frescos,fill=Group.1)) + g + t +\n",
    "labs(x=NULL,y=NULL,title=\"Média Produtos Frescos\")\n",
    "g2<-ggplot(segmentos_media,aes(Group.1,Lacteos,fill=Group.1)) + g + t +\n",
    "labs(x=NULL,y=NULL,title=\"Média Produtos Lácteos\")\n",
    "g3<-ggplot(segmentos_media,aes(Group.1,Mercearia,fill=Group.1)) + g + t +\n",
    "labs(x=NULL,y=NULL,title=\"Média Produtos de Mercearia\")\n",
    "g4<-ggplot(segmentos_media,aes(Group.1,Limpeza,fill=Group.1)) + g + t + \n",
    "labs(x=NULL,y=NULL,title=\"Média Produtos de Limpeza\")\n",
    "g5<-ggplot(segmentos_media,aes(Group.1,Delicatessen,fill=Group.1)) + g + t +\n",
    "labs(x=NULL,y=NULL,title=\"Média Produtos Delicatessen\")\n",
    "grid.arrange(g1,g2,g3,g4,g5)"
   ]
  }
 ],
 "metadata": {
  "kernelspec": {
   "display_name": "R",
   "language": "R",
   "name": "ir"
  },
  "language_info": {
   "codemirror_mode": "r",
   "file_extension": ".r",
   "mimetype": "text/x-r-source",
   "name": "R",
   "pygments_lexer": "r",
   "version": "3.6.1"
  }
 },
 "nbformat": 4,
 "nbformat_minor": 5
}
